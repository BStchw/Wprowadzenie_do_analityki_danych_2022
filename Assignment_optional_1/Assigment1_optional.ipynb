{
 "cells": [
  {
   "cell_type": "code",
   "execution_count": 1,
   "metadata": {
    "id": "KsmKBPIL9w9H"
   },
   "outputs": [],
   "source": [
    "import pandas as pd\n",
    "import numpy as np\n",
    "import matplotlib.pyplot as plt"
   ]
  },
  {
   "cell_type": "markdown",
   "metadata": {
    "id": "h27AwtEqoDod"
   },
   "source": [
    "# Dataset, variables "
   ]
  },
  {
   "cell_type": "markdown",
   "metadata": {
    "id": "9ISLmbx-_E3H"
   },
   "source": [
    "Loading data from file \"california_wine.csv\" and printing first records. \"california_wine.csv\" contains datas of grapes production in California in years 1980-2020.\n",
    "\n",
    "link: https://www.kaggle.com/datasets/jarredpriester/california-wine-production-19802020"
   ]
  },
  {
   "cell_type": "code",
   "execution_count": 5,
   "metadata": {
    "colab": {
     "base_uri": "https://localhost:8080/",
     "height": 270
    },
    "id": "8C8IKvr3-ial",
    "outputId": "009037f4-b142-4e0c-9a33-00673a62acc4"
   },
   "outputs": [
    {
     "data": {
      "text/html": [
       "<div>\n",
       "<style scoped>\n",
       "    .dataframe tbody tr th:only-of-type {\n",
       "        vertical-align: middle;\n",
       "    }\n",
       "\n",
       "    .dataframe tbody tr th {\n",
       "        vertical-align: top;\n",
       "    }\n",
       "\n",
       "    .dataframe thead th {\n",
       "        text-align: right;\n",
       "    }\n",
       "</style>\n",
       "<table border=\"1\" class=\"dataframe\">\n",
       "  <thead>\n",
       "    <tr style=\"text-align: right;\">\n",
       "      <th></th>\n",
       "      <th>Year</th>\n",
       "      <th>CommodityCode</th>\n",
       "      <th>CropName</th>\n",
       "      <th>CountyCode</th>\n",
       "      <th>County</th>\n",
       "      <th>HarvestedAcres</th>\n",
       "      <th>Yield(Unit/Acre)</th>\n",
       "      <th>Production</th>\n",
       "      <th>Price(Dollars/Unit)</th>\n",
       "      <th>Unit</th>\n",
       "      <th>Value(Dollars)</th>\n",
       "    </tr>\n",
       "  </thead>\n",
       "  <tbody>\n",
       "    <tr>\n",
       "      <th>0</th>\n",
       "      <td>2020</td>\n",
       "      <td>216299</td>\n",
       "      <td>GRAPESWINE</td>\n",
       "      <td>1</td>\n",
       "      <td>Alameda</td>\n",
       "      <td>2530.0</td>\n",
       "      <td>5.14</td>\n",
       "      <td>13000.0</td>\n",
       "      <td>1497.69</td>\n",
       "      <td>Tons</td>\n",
       "      <td>19470000</td>\n",
       "    </tr>\n",
       "    <tr>\n",
       "      <th>1</th>\n",
       "      <td>2020</td>\n",
       "      <td>216299</td>\n",
       "      <td>GRAPESWINE</td>\n",
       "      <td>5</td>\n",
       "      <td>Amador</td>\n",
       "      <td>5360.0</td>\n",
       "      <td>2.31</td>\n",
       "      <td>12400.0</td>\n",
       "      <td>1318.31</td>\n",
       "      <td>Tons</td>\n",
       "      <td>16347000</td>\n",
       "    </tr>\n",
       "    <tr>\n",
       "      <th>2</th>\n",
       "      <td>2020</td>\n",
       "      <td>216299</td>\n",
       "      <td>GRAPESWINE</td>\n",
       "      <td>9</td>\n",
       "      <td>Calaveras</td>\n",
       "      <td>579.0</td>\n",
       "      <td>3.06</td>\n",
       "      <td>1770.0</td>\n",
       "      <td>1325.99</td>\n",
       "      <td>Tons</td>\n",
       "      <td>2347000</td>\n",
       "    </tr>\n",
       "    <tr>\n",
       "      <th>3</th>\n",
       "      <td>2020</td>\n",
       "      <td>216299</td>\n",
       "      <td>GRAPESWINE</td>\n",
       "      <td>11</td>\n",
       "      <td>Colusa</td>\n",
       "      <td>747.0</td>\n",
       "      <td>6.02</td>\n",
       "      <td>4500.0</td>\n",
       "      <td>684.67</td>\n",
       "      <td>Tons</td>\n",
       "      <td>3081000</td>\n",
       "    </tr>\n",
       "    <tr>\n",
       "      <th>4</th>\n",
       "      <td>2020</td>\n",
       "      <td>216299</td>\n",
       "      <td>GRAPESWINE</td>\n",
       "      <td>13</td>\n",
       "      <td>ContraCosta</td>\n",
       "      <td>1940.0</td>\n",
       "      <td>4.69</td>\n",
       "      <td>9090.0</td>\n",
       "      <td>751.27</td>\n",
       "      <td>Tons</td>\n",
       "      <td>6829000</td>\n",
       "    </tr>\n",
       "  </tbody>\n",
       "</table>\n",
       "</div>"
      ],
      "text/plain": [
       "   Year  CommodityCode    CropName  CountyCode       County  HarvestedAcres  \\\n",
       "0  2020         216299  GRAPESWINE           1      Alameda          2530.0   \n",
       "1  2020         216299  GRAPESWINE           5       Amador          5360.0   \n",
       "2  2020         216299  GRAPESWINE           9    Calaveras           579.0   \n",
       "3  2020         216299  GRAPESWINE          11       Colusa           747.0   \n",
       "4  2020         216299  GRAPESWINE          13  ContraCosta          1940.0   \n",
       "\n",
       "   Yield(Unit/Acre)  Production  Price(Dollars/Unit)  Unit  Value(Dollars)  \n",
       "0              5.14     13000.0              1497.69  Tons        19470000  \n",
       "1              2.31     12400.0              1318.31  Tons        16347000  \n",
       "2              3.06      1770.0              1325.99  Tons         2347000  \n",
       "3              6.02      4500.0               684.67  Tons         3081000  \n",
       "4              4.69      9090.0               751.27  Tons         6829000  "
      ]
     },
     "execution_count": 5,
     "metadata": {},
     "output_type": "execute_result"
    }
   ],
   "source": [
    "data = pd.read_csv('california_wine.csv')\n",
    "data.head()"
   ]
  },
  {
   "cell_type": "code",
   "execution_count": 6,
   "metadata": {
    "colab": {
     "base_uri": "https://localhost:8080/"
    },
    "id": "iIAZOwE2AbpM",
    "outputId": "be9573b8-e4ba-4e5c-9b27-208d58644e22"
   },
   "outputs": [
    {
     "name": "stdout",
     "output_type": "stream",
     "text": [
      "Variable list: \n",
      "['Year' 'CommodityCode' 'CropName' 'CountyCode' 'County' 'HarvestedAcres'\n",
      " 'Yield(Unit/Acre)' 'Production' 'Price(Dollars/Unit)' 'Unit'\n",
      " 'Value(Dollars)']\n"
     ]
    }
   ],
   "source": [
    "print(\"Variable list: \")\n",
    "print(data.columns.values)\n",
    "\n",
    "v_categorical_df = ['Year', 'CommodityCode', 'CropName', 'CountyCode', 'County', 'Unit']\n",
    "\n",
    "v_numerical_df = ['Yield(Unit/Acre)', 'Production', 'Price(Dollars/Unit)', 'Value(Dollars)', 'HarvestedAcres',]\n"
   ]
  },
  {
   "cell_type": "code",
   "execution_count": 7,
   "metadata": {
    "colab": {
     "base_uri": "https://localhost:8080/",
     "height": 300
    },
    "id": "ctpWfW7sIfNw",
    "outputId": "a22cae99-2af5-4e87-ef4b-2817ce6e445a"
   },
   "outputs": [
    {
     "data": {
      "text/html": [
       "<div>\n",
       "<style scoped>\n",
       "    .dataframe tbody tr th:only-of-type {\n",
       "        vertical-align: middle;\n",
       "    }\n",
       "\n",
       "    .dataframe tbody tr th {\n",
       "        vertical-align: top;\n",
       "    }\n",
       "\n",
       "    .dataframe thead th {\n",
       "        text-align: right;\n",
       "    }\n",
       "</style>\n",
       "<table border=\"1\" class=\"dataframe\">\n",
       "  <thead>\n",
       "    <tr style=\"text-align: right;\">\n",
       "      <th></th>\n",
       "      <th>Yield(Unit/Acre)</th>\n",
       "      <th>Production</th>\n",
       "      <th>Price(Dollars/Unit)</th>\n",
       "      <th>Value(Dollars)</th>\n",
       "      <th>HarvestedAcres</th>\n",
       "    </tr>\n",
       "  </thead>\n",
       "  <tbody>\n",
       "    <tr>\n",
       "      <th>count</th>\n",
       "      <td>1266.000000</td>\n",
       "      <td>1.278000e+03</td>\n",
       "      <td>1278.000000</td>\n",
       "      <td>1.315000e+03</td>\n",
       "      <td>1302.000000</td>\n",
       "    </tr>\n",
       "    <tr>\n",
       "      <th>mean</th>\n",
       "      <td>5.176288</td>\n",
       "      <td>1.023638e+05</td>\n",
       "      <td>928.027363</td>\n",
       "      <td>5.961252e+07</td>\n",
       "      <td>14546.443164</td>\n",
       "    </tr>\n",
       "    <tr>\n",
       "      <th>std</th>\n",
       "      <td>3.267309</td>\n",
       "      <td>1.711560e+05</td>\n",
       "      <td>1244.949783</td>\n",
       "      <td>1.237376e+08</td>\n",
       "      <td>20576.581018</td>\n",
       "    </tr>\n",
       "    <tr>\n",
       "      <th>min</th>\n",
       "      <td>0.060000</td>\n",
       "      <td>2.300000e+01</td>\n",
       "      <td>74.000000</td>\n",
       "      <td>1.150000e+04</td>\n",
       "      <td>3.000000</td>\n",
       "    </tr>\n",
       "    <tr>\n",
       "      <th>25%</th>\n",
       "      <td>2.940000</td>\n",
       "      <td>3.259750e+03</td>\n",
       "      <td>335.827500</td>\n",
       "      <td>1.600500e+06</td>\n",
       "      <td>805.750000</td>\n",
       "    </tr>\n",
       "    <tr>\n",
       "      <th>50%</th>\n",
       "      <td>4.040000</td>\n",
       "      <td>1.740000e+04</td>\n",
       "      <td>723.500000</td>\n",
       "      <td>1.220210e+07</td>\n",
       "      <td>3699.000000</td>\n",
       "    </tr>\n",
       "    <tr>\n",
       "      <th>75%</th>\n",
       "      <td>7.185000</td>\n",
       "      <td>1.298860e+05</td>\n",
       "      <td>1236.887500</td>\n",
       "      <td>6.340450e+07</td>\n",
       "      <td>23884.500000</td>\n",
       "    </tr>\n",
       "    <tr>\n",
       "      <th>max</th>\n",
       "      <td>25.000000</td>\n",
       "      <td>1.040100e+06</td>\n",
       "      <td>36342.070000</td>\n",
       "      <td>2.030002e+09</td>\n",
       "      <td>128613.000000</td>\n",
       "    </tr>\n",
       "  </tbody>\n",
       "</table>\n",
       "</div>"
      ],
      "text/plain": [
       "       Yield(Unit/Acre)    Production  Price(Dollars/Unit)  Value(Dollars)  \\\n",
       "count       1266.000000  1.278000e+03          1278.000000    1.315000e+03   \n",
       "mean           5.176288  1.023638e+05           928.027363    5.961252e+07   \n",
       "std            3.267309  1.711560e+05          1244.949783    1.237376e+08   \n",
       "min            0.060000  2.300000e+01            74.000000    1.150000e+04   \n",
       "25%            2.940000  3.259750e+03           335.827500    1.600500e+06   \n",
       "50%            4.040000  1.740000e+04           723.500000    1.220210e+07   \n",
       "75%            7.185000  1.298860e+05          1236.887500    6.340450e+07   \n",
       "max           25.000000  1.040100e+06         36342.070000    2.030002e+09   \n",
       "\n",
       "       HarvestedAcres  \n",
       "count     1302.000000  \n",
       "mean     14546.443164  \n",
       "std      20576.581018  \n",
       "min          3.000000  \n",
       "25%        805.750000  \n",
       "50%       3699.000000  \n",
       "75%      23884.500000  \n",
       "max     128613.000000  "
      ]
     },
     "execution_count": 7,
     "metadata": {},
     "output_type": "execute_result"
    }
   ],
   "source": [
    "data[v_numerical_df].describe()"
   ]
  },
  {
   "cell_type": "markdown",
   "metadata": {
    "id": "1xQE3JMYIsws"
   },
   "source": [
    "Six variables of dataset are categorical and five are numerical. In this dataset all statisctics of numerical variables are meanigful.\n"
   ]
  },
  {
   "cell_type": "markdown",
   "metadata": {
    "id": "3GKJCfOnoRBM"
   },
   "source": [
    "# Scatter plot"
   ]
  },
  {
   "cell_type": "markdown",
   "metadata": {
    "id": "053H99hQKDKi"
   },
   "source": [
    "Using scatter plot we can notice some dependencies between variables in dataset:"
   ]
  },
  {
   "cell_type": "code",
   "execution_count": 8,
   "metadata": {
    "colab": {
     "base_uri": "https://localhost:8080/",
     "height": 334
    },
    "id": "LOqjejx8NcTF",
    "outputId": "fd02569e-22e4-4be9-bacc-44d6961b39eb"
   },
   "outputs": [
    {
     "data": {
      "image/png": "[encoded data removed]",
      "text/plain": [
       "<Figure size 432x288 with 1 Axes>"
      ]
     },
     "metadata": {
      "needs_background": "light"
     },
     "output_type": "display_data"
    }
   ],
   "source": [
    "#relation between yield and price\n",
    "data.plot.scatter(x='Yield(Unit/Acre)', y='Production')\n",
    "\n",
    "plt.show()"
   ]
  },
  {
   "cell_type": "markdown",
   "metadata": {
    "id": "7n4ZTlEdNcrZ"
   },
   "source": [
    "Diagram shows that generally production is bigger if yields are bigger."
   ]
  },
  {
   "cell_type": "markdown",
   "metadata": {
    "id": "nF7BMaxV_PpU"
   },
   "source": [
    "Let's see how price of grapes is influenced by yield and production."
   ]
  },
  {
   "cell_type": "code",
   "execution_count": 120,
   "metadata": {
    "colab": {
     "base_uri": "https://localhost:8080/",
     "height": 629
    },
    "id": "uKCiOgXE6ybN",
    "outputId": "6be0774c-4e70-4161-e6db-dfe35b9b0e8f"
   },
   "outputs": [
    {
     "data": {
      "image/png": "[encoded data removed]",
      "text/plain": [
       "<Figure size 460.8x345.6 with 1 Axes>"
      ]
     },
     "metadata": {
      "needs_background": "light"
     },
     "output_type": "display_data"
    },
    {
     "data": {
      "image/png": "[encoded data removed]",
      "text/plain": [
       "<Figure size 460.8x345.6 with 1 Axes>"
      ]
     },
     "metadata": {
      "needs_background": "light"
     },
     "output_type": "display_data"
    }
   ],
   "source": [
    "#relation between yield and price\n",
    "data.plot.scatter(x='Yield(Unit/Acre)', y='Price(Dollars/Unit)', color = 'lightgreen')\n",
    "\n",
    "#relation between production and price\n",
    "data.plot.scatter(x='Production', y='Price(Dollars/Unit)', color = 'green')\n",
    "\n",
    "plt.show()"
   ]
  },
  {
   "cell_type": "markdown",
   "metadata": {
    "id": "1311x3sVAWis"
   },
   "source": [
    "As we see from the digram usually the prices of grapes are higher if the yields are small. The similar situation is with production. It is propably caused by bigger demand than supply in years when harvest were bad."
   ]
  },
  {
   "cell_type": "markdown",
   "metadata": {
    "id": "W1xXKYbjVsce"
   },
   "source": [
    "Relation between CountyCode and Production:"
   ]
  },
  {
   "cell_type": "code",
   "execution_count": 121,
   "metadata": {
    "colab": {
     "base_uri": "https://localhost:8080/",
     "height": 334
    },
    "id": "td_lKCOtLDws",
    "outputId": "ac53f85b-99b8-4229-de9c-6ff96350e508"
   },
   "outputs": [
    {
     "data": {
      "image/png": "[encoded data removed]",
      "text/plain": [
       "<Figure size 460.8x345.6 with 1 Axes>"
      ]
     },
     "metadata": {
      "needs_background": "light"
     },
     "output_type": "display_data"
    }
   ],
   "source": [
    "#relation between CountyCode and Production\n",
    "data.plot.scatter(x='CountyCode', y='Production', color = 'darkblue')\n",
    "plt.show()"
   ]
  },
  {
   "cell_type": "markdown",
   "metadata": {
    "id": "0B_xueuRPcUI"
   },
   "source": [
    "The diagram shows that there are four counties where production was bigger than 400000 tons many times. One county had once production bigger than 1000000 tons. However there are also areas where it is  always low."
   ]
  },
  {
   "cell_type": "markdown",
   "metadata": {
    "id": "f6D3XoSYYB6Q"
   },
   "source": [
    "Relation between CountyCode and HarvestedAcres:"
   ]
  },
  {
   "cell_type": "code",
   "execution_count": 122,
   "metadata": {
    "colab": {
     "base_uri": "https://localhost:8080/",
     "height": 323
    },
    "id": "Irc_ocziVLj3",
    "outputId": "a1e56b26-4a37-4378-8dd9-a43cc40427da"
   },
   "outputs": [
    {
     "data": {
      "image/png": "[encoded data removed]",
      "text/plain": [
       "<Figure size 460.8x345.6 with 1 Axes>"
      ]
     },
     "metadata": {
      "needs_background": "light"
     },
     "output_type": "display_data"
    }
   ],
   "source": [
    "#relation between CountyCode and Production\n",
    "data.plot.scatter(x='CountyCode', y='HarvestedAcres', color = 'darkgreen')\n",
    "plt.show()"
   ]
  },
  {
   "cell_type": "markdown",
   "metadata": {
    "id": "8i76K88mYZXb"
   },
   "source": [
    "We see that diagram of relation between CountyCode and HarvestedAcres looks similar to diagram of relation between CountyCode and Production. That means the bigger production in some counties is mainly caused by bigger planting."
   ]
  },
  {
   "cell_type": "markdown",
   "metadata": {
    "id": "CRDmMwTAon44"
   },
   "source": [
    "# Boxplot"
   ]
  },
  {
   "cell_type": "markdown",
   "metadata": {
    "id": "TDBlcCZNakJv"
   },
   "source": [
    "Creating boxplot of Price(Dollars/Unit) versus years 1980, 2000 and 2020:"
   ]
  },
  {
   "cell_type": "code",
   "execution_count": 123,
   "metadata": {
    "colab": {
     "base_uri": "https://localhost:8080/",
     "height": 416
    },
    "id": "iXjDP0UUZd_y",
    "outputId": "7f8056ce-de8d-45a0-82ec-331de55b0f26"
   },
   "outputs": [
    {
     "name": "stderr",
     "output_type": "stream",
     "text": [
      "/usr/local/lib/python3.7/dist-packages/matplotlib/cbook/__init__.py:1376: VisibleDeprecationWarning: Creating an ndarray from ragged nested sequences (which is a list-or-tuple of lists-or-tuples-or ndarrays with different lengths or shapes) is deprecated. If you meant to do this, you must specify 'dtype=object' when creating the ndarray.\n",
      "  X = np.atleast_1d(X.T if isinstance(X, np.ndarray) else np.asarray(X))\n"
     ]
    },
    {
     "data": {
      "image/png": "[encoded data removed]",
      "text/plain": [
       "<Figure size 720x360 with 1 Axes>"
      ]
     },
     "metadata": {
      "needs_background": "light"
     },
     "output_type": "display_data"
    }
   ],
   "source": [
    "#changing size of figure\n",
    "plt.rcParams[\"figure.figsize\"] = (10, 5)\n",
    "\n",
    "data_box = data.loc[(data['Year'] == 1980) | (data['Year'] == 2000) | (data['Year'] == 2020)]\n",
    "\n",
    "data_box.boxplot(column=['Price(Dollars/Unit)'], by = ['Year'])\n",
    "\n",
    "plt.show()\n",
    "#setting initial size\n",
    "plt.rcParams[\"figure.figsize\"] = plt.rcParamsDefault[\"figure.figsize\"]"
   ]
  },
  {
   "cell_type": "markdown",
   "metadata": {
    "id": "cawjn63NmzmM"
   },
   "source": [
    "Both minimum, median and maximum of prices were gradually increasing during fourty years. The prices were getting more different in individual years. In 1980 the biggest difference was in quartile group 3, in 2000 and 2020 in quartile group 4. Since 2000 to 2020 prices weren't changed so significantly as since 1980 to 2000. The smallest changes we can observe in minimum price."
   ]
  },
  {
   "cell_type": "markdown",
   "metadata": {
    "id": "HSwwtHiooxzi"
   },
   "source": [
    "# Selecting/sorting variables, bars"
   ]
  },
  {
   "cell_type": "markdown",
   "metadata": {
    "id": "2Xza-dksVJhy"
   },
   "source": [
    "Finding counties with more than 50000 harvested acres in 2020:"
   ]
  },
  {
   "cell_type": "code",
   "execution_count": 124,
   "metadata": {
    "colab": {
     "base_uri": "https://localhost:8080/",
     "height": 207
    },
    "id": "npHVB7UmVI4U",
    "outputId": "5a90aa3c-8bab-4125-d26e-4fced999b9c0"
   },
   "outputs": [
    {
     "data": {
      "text/html": [
       "\n",
       "  <div id=\"df-eab00523-b1bc-4e00-9b0e-15fee04c79a2\">\n",
       "    <div class=\"colab-df-container\">\n",
       "      <div>\n",
       "<style scoped>\n",
       "    .dataframe tbody tr th:only-of-type {\n",
       "        vertical-align: middle;\n",
       "    }\n",
       "\n",
       "    .dataframe tbody tr th {\n",
       "        vertical-align: top;\n",
       "    }\n",
       "\n",
       "    .dataframe thead th {\n",
       "        text-align: right;\n",
       "    }\n",
       "</style>\n",
       "<table border=\"1\" class=\"dataframe\">\n",
       "  <thead>\n",
       "    <tr style=\"text-align: right;\">\n",
       "      <th></th>\n",
       "      <th>Year</th>\n",
       "      <th>CommodityCode</th>\n",
       "      <th>CropName</th>\n",
       "      <th>CountyCode</th>\n",
       "      <th>County</th>\n",
       "      <th>HarvestedAcres</th>\n",
       "      <th>Yield(Unit/Acre)</th>\n",
       "      <th>Production</th>\n",
       "      <th>Price(Dollars/Unit)</th>\n",
       "      <th>Unit</th>\n",
       "      <th>Value(Dollars)</th>\n",
       "    </tr>\n",
       "  </thead>\n",
       "  <tbody>\n",
       "    <tr>\n",
       "      <th>23</th>\n",
       "      <td>2020</td>\n",
       "      <td>216299</td>\n",
       "      <td>GRAPESWINE</td>\n",
       "      <td>77</td>\n",
       "      <td>SanJoaquin</td>\n",
       "      <td>91200.0</td>\n",
       "      <td>6.67</td>\n",
       "      <td>608000.0</td>\n",
       "      <td>560.71</td>\n",
       "      <td>Tons</td>\n",
       "      <td>340913000</td>\n",
       "    </tr>\n",
       "    <tr>\n",
       "      <th>6</th>\n",
       "      <td>2020</td>\n",
       "      <td>216299</td>\n",
       "      <td>GRAPESWINE</td>\n",
       "      <td>19</td>\n",
       "      <td>Fresno</td>\n",
       "      <td>56900.0</td>\n",
       "      <td>12.13</td>\n",
       "      <td>690000.0</td>\n",
       "      <td>362.14</td>\n",
       "      <td>Tons</td>\n",
       "      <td>249877000</td>\n",
       "    </tr>\n",
       "    <tr>\n",
       "      <th>31</th>\n",
       "      <td>2020</td>\n",
       "      <td>216299</td>\n",
       "      <td>GRAPESWINE</td>\n",
       "      <td>97</td>\n",
       "      <td>Sonoma</td>\n",
       "      <td>56800.0</td>\n",
       "      <td>2.61</td>\n",
       "      <td>148000.0</td>\n",
       "      <td>2375.08</td>\n",
       "      <td>Tons</td>\n",
       "      <td>351512000</td>\n",
       "    </tr>\n",
       "  </tbody>\n",
       "</table>\n",
       "</div>\n",
       "      <button class=\"colab-df-convert\" onclick=\"convertToInteractive('df-eab00523-b1bc-4e00-9b0e-15fee04c79a2')\"\n",
       "              title=\"Convert this dataframe to an interactive table.\"\n",
       "              style=\"display:none;\">\n",
       "        \n",
       "  <svg xmlns=\"http://www.w3.org/2000/svg\" height=\"24px\"viewBox=\"0 0 24 24\"\n",
       "       width=\"24px\">\n",
       "    <path d=\"M0 0h24v24H0V0z\" fill=\"none\"/>\n",
       "    <path d=\"M18.56 5.44l.94 2.06.94-2.06 2.06-.94-2.06-.94-.94-2.06-.94 2.06-2.06.94zm-11 1L8.5 8.5l.94-2.06 2.06-.94-2.06-.94L8.5 2.5l-.94 2.06-2.06.94zm10 10l.94 2.06.94-2.06 2.06-.94-2.06-.94-.94-2.06-.94 2.06-2.06.94z\"/><path d=\"M17.41 7.96l-1.37-1.37c-.4-.4-.92-.59-1.43-.59-.52 0-1.04.2-1.43.59L10.3 9.45l-7.72 7.72c-.78.78-.78 2.05 0 2.83L4 21.41c.39.39.9.59 1.41.59.51 0 1.02-.2 1.41-.59l7.78-7.78 2.81-2.81c.8-.78.8-2.07 0-2.86zM5.41 20L4 18.59l7.72-7.72 1.47 1.35L5.41 20z\"/>\n",
       "  </svg>\n",
       "      </button>\n",
       "      \n",
       "  <style>\n",
       "    .colab-df-container {\n",
       "      display:flex;\n",
       "      flex-wrap:wrap;\n",
       "      gap: 12px;\n",
       "    }\n",
       "\n",
       "    .colab-df-convert {\n",
       "      background-color: #E8F0FE;\n",
       "      border: none;\n",
       "      border-radius: 50%;\n",
       "      cursor: pointer;\n",
       "      display: none;\n",
       "      fill: #1967D2;\n",
       "      height: 32px;\n",
       "      padding: 0 0 0 0;\n",
       "      width: 32px;\n",
       "    }\n",
       "\n",
       "    .colab-df-convert:hover {\n",
       "      background-color: #E2EBFA;\n",
       "      box-shadow: 0px 1px 2px rgba(60, 64, 67, 0.3), 0px 1px 3px 1px rgba(60, 64, 67, 0.15);\n",
       "      fill: #174EA6;\n",
       "    }\n",
       "\n",
       "    [theme=dark] .colab-df-convert {\n",
       "      background-color: #3B4455;\n",
       "      fill: #D2E3FC;\n",
       "    }\n",
       "\n",
       "    [theme=dark] .colab-df-convert:hover {\n",
       "      background-color: #434B5C;\n",
       "      box-shadow: 0px 1px 3px 1px rgba(0, 0, 0, 0.15);\n",
       "      filter: drop-shadow(0px 1px 2px rgba(0, 0, 0, 0.3));\n",
       "      fill: #FFFFFF;\n",
       "    }\n",
       "  </style>\n",
       "\n",
       "      <script>\n",
       "        const buttonEl =\n",
       "          document.querySelector('#df-eab00523-b1bc-4e00-9b0e-15fee04c79a2 button.colab-df-convert');\n",
       "        buttonEl.style.display =\n",
       "          google.colab.kernel.accessAllowed ? 'block' : 'none';\n",
       "\n",
       "        async function convertToInteractive(key) {\n",
       "          const element = document.querySelector('#df-eab00523-b1bc-4e00-9b0e-15fee04c79a2');\n",
       "          const dataTable =\n",
       "            await google.colab.kernel.invokeFunction('convertToInteractive',\n",
       "                                                     [key], {});\n",
       "          if (!dataTable) return;\n",
       "\n",
       "          const docLinkHtml = 'Like what you see? Visit the ' +\n",
       "            '<a target=\"_blank\" href=https://colab.research.google.com/notebooks/data_table.ipynb>data table notebook</a>'\n",
       "            + ' to learn more about interactive tables.';\n",
       "          element.innerHTML = '';\n",
       "          dataTable['output_type'] = 'display_data';\n",
       "          await google.colab.output.renderOutput(dataTable, element);\n",
       "          const docLink = document.createElement('div');\n",
       "          docLink.innerHTML = docLinkHtml;\n",
       "          element.appendChild(docLink);\n",
       "        }\n",
       "      </script>\n",
       "    </div>\n",
       "  </div>\n",
       "  "
      ],
      "text/plain": [
       "    Year  CommodityCode    CropName  CountyCode      County  HarvestedAcres  \\\n",
       "23  2020         216299  GRAPESWINE          77  SanJoaquin         91200.0   \n",
       "6   2020         216299  GRAPESWINE          19      Fresno         56900.0   \n",
       "31  2020         216299  GRAPESWINE          97      Sonoma         56800.0   \n",
       "\n",
       "    Yield(Unit/Acre)  Production  Price(Dollars/Unit)  Unit  Value(Dollars)  \n",
       "23              6.67    608000.0               560.71  Tons       340913000  \n",
       "6              12.13    690000.0               362.14  Tons       249877000  \n",
       "31              2.61    148000.0              2375.08  Tons       351512000  "
      ]
     },
     "execution_count": 124,
     "metadata": {},
     "output_type": "execute_result"
    }
   ],
   "source": [
    "data_b_h = data.loc[(data['HarvestedAcres'] > 50000) & (data['Year'] == 2020)]\n",
    "#sorting by biggest HarvestedAcres\n",
    "data_b_h.sort_values(by = ['HarvestedAcres'], ascending=False)"
   ]
  },
  {
   "cell_type": "markdown",
   "metadata": {
    "id": "Fp5sJNJfZeBA"
   },
   "source": [
    "There are only three counties where were more than 50000 harvested acres in 2020. Now we will check the changes of that surface in these counties over the years."
   ]
  },
  {
   "cell_type": "code",
   "execution_count": 125,
   "metadata": {
    "colab": {
     "base_uri": "https://localhost:8080/",
     "height": 1000
    },
    "id": "LlEwDzAUmyer",
    "outputId": "627ed9dd-1c2d-49a6-8624-63df958328a5"
   },
   "outputs": [
    {
     "data": {
      "image/png": "[encoded data removed]",
      "text/plain": [
       "<Figure size 1080x360 with 1 Axes>"
      ]
     },
     "metadata": {
      "needs_background": "light"
     },
     "output_type": "display_data"
    },
    {
     "data": {
      "image/png": "[encoded data removed]",
      "text/plain": [
       "<Figure size 1080x360 with 1 Axes>"
      ]
     },
     "metadata": {
      "needs_background": "light"
     },
     "output_type": "display_data"
    },
    {
     "data": {
      "image/png": "[encoded data removed]",
      "text/plain": [
       "<Figure size 1080x360 with 1 Axes>"
      ]
     },
     "metadata": {
      "needs_background": "light"
     },
     "output_type": "display_data"
    }
   ],
   "source": [
    "#changing size of figure\n",
    "plt.rcParams[\"figure.figsize\"] = (15,5)\n",
    "\n",
    "#San Joaquin\n",
    "first_c = data.loc[(data['County'] == 'SanJoaquin')]\n",
    "#sorting by years to get elder datas as first\n",
    "first_c = first_c.sort_values(by=['Year'], ascending=True)\n",
    "first_c.plot.bar(x='Year', y='HarvestedAcres')\n",
    "plt.title(\"San Joaquin\")\n",
    "\n",
    "#Fresno\n",
    "second_c = data.loc[(data['County'] == 'Fresno')]\n",
    "#sorting by years to get elder datas as first\n",
    "second_c = second_c.sort_values(by=['Year'], ascending=True)\n",
    "second_c.plot.bar(x='Year', y='HarvestedAcres')\n",
    "plt.title(\"Fresno\")\n",
    "\n",
    "#Sonoma\n",
    "third_c = data.loc[(data['County'] == 'Sonoma')]\n",
    "#sorting by years to get elder datas as first\n",
    "third_c = third_c.sort_values(by=['Year'], ascending=True)\n",
    "third_c.plot.bar(x='Year', y='HarvestedAcres')\n",
    "plt.title(\"Sonoma\")\n",
    "\n",
    "plt.show()\n",
    "\n",
    "#setting initial size\n",
    "plt.rcParams[\"figure.figsize\"] = plt.rcParamsDefault[\"figure.figsize\"]"
   ]
  },
  {
   "cell_type": "markdown",
   "metadata": {
    "id": "ga3nMDB6h2oI"
   },
   "source": [
    "Surface of grapes plantations increased since year 1980 in these three counties. In San Joaquin and Sonoma it was increasing gradually and now it looks rather stably. In Fresno the growth was chaotic. It had enlarged in the nineties and had maximum in 1999 but later it was generally getting lower.  "
   ]
  },
  {
   "cell_type": "markdown",
   "metadata": {
    "id": "quZMERRuvG0x"
   },
   "source": [
    "Finding counties with best yields in 2020:"
   ]
  },
  {
   "cell_type": "code",
   "execution_count": 126,
   "metadata": {
    "colab": {
     "base_uri": "https://localhost:8080/",
     "height": 1000
    },
    "id": "vz3AIePrnPre",
    "outputId": "abda9db6-c202-40eb-e2a8-1e44c86db444"
   },
   "outputs": [
    {
     "data": {
      "text/html": [
       "\n",
       "  <div id=\"df-9bf70d20-bfc3-46ec-83bd-52a2a84b597d\">\n",
       "    <div class=\"colab-df-container\">\n",
       "      <div>\n",
       "<style scoped>\n",
       "    .dataframe tbody tr th:only-of-type {\n",
       "        vertical-align: middle;\n",
       "    }\n",
       "\n",
       "    .dataframe tbody tr th {\n",
       "        vertical-align: top;\n",
       "    }\n",
       "\n",
       "    .dataframe thead th {\n",
       "        text-align: right;\n",
       "    }\n",
       "</style>\n",
       "<table border=\"1\" class=\"dataframe\">\n",
       "  <thead>\n",
       "    <tr style=\"text-align: right;\">\n",
       "      <th></th>\n",
       "      <th>Year</th>\n",
       "      <th>CommodityCode</th>\n",
       "      <th>CropName</th>\n",
       "      <th>CountyCode</th>\n",
       "      <th>County</th>\n",
       "      <th>HarvestedAcres</th>\n",
       "      <th>Yield(Unit/Acre)</th>\n",
       "      <th>Production</th>\n",
       "      <th>Price(Dollars/Unit)</th>\n",
       "      <th>Unit</th>\n",
       "      <th>Value(Dollars)</th>\n",
       "    </tr>\n",
       "  </thead>\n",
       "  <tbody>\n",
       "    <tr>\n",
       "      <th>34</th>\n",
       "      <td>2020</td>\n",
       "      <td>216299</td>\n",
       "      <td>GRAPESWINE</td>\n",
       "      <td>107</td>\n",
       "      <td>Tulare</td>\n",
       "      <td>6500.0</td>\n",
       "      <td>17.23</td>\n",
       "      <td>112000.0</td>\n",
       "      <td>317.00</td>\n",
       "      <td>Tons</td>\n",
       "      <td>35504000</td>\n",
       "    </tr>\n",
       "    <tr>\n",
       "      <th>8</th>\n",
       "      <td>2020</td>\n",
       "      <td>216299</td>\n",
       "      <td>GRAPESWINE</td>\n",
       "      <td>31</td>\n",
       "      <td>Kings</td>\n",
       "      <td>3590.0</td>\n",
       "      <td>16.46</td>\n",
       "      <td>59100.0</td>\n",
       "      <td>286.87</td>\n",
       "      <td>Tons</td>\n",
       "      <td>16954000</td>\n",
       "    </tr>\n",
       "    <tr>\n",
       "      <th>6</th>\n",
       "      <td>2020</td>\n",
       "      <td>216299</td>\n",
       "      <td>GRAPESWINE</td>\n",
       "      <td>19</td>\n",
       "      <td>Fresno</td>\n",
       "      <td>56900.0</td>\n",
       "      <td>12.13</td>\n",
       "      <td>690000.0</td>\n",
       "      <td>362.14</td>\n",
       "      <td>Tons</td>\n",
       "      <td>249877000</td>\n",
       "    </tr>\n",
       "    <tr>\n",
       "      <th>10</th>\n",
       "      <td>2020</td>\n",
       "      <td>216299</td>\n",
       "      <td>GRAPESWINE</td>\n",
       "      <td>39</td>\n",
       "      <td>Madera</td>\n",
       "      <td>33000.0</td>\n",
       "      <td>11.82</td>\n",
       "      <td>390000.0</td>\n",
       "      <td>348.98</td>\n",
       "      <td>Tons</td>\n",
       "      <td>136101000</td>\n",
       "    </tr>\n",
       "    <tr>\n",
       "      <th>13</th>\n",
       "      <td>2020</td>\n",
       "      <td>216299</td>\n",
       "      <td>GRAPESWINE</td>\n",
       "      <td>47</td>\n",
       "      <td>Merced</td>\n",
       "      <td>13200.0</td>\n",
       "      <td>10.91</td>\n",
       "      <td>144000.0</td>\n",
       "      <td>440.41</td>\n",
       "      <td>Tons</td>\n",
       "      <td>63419000</td>\n",
       "    </tr>\n",
       "    <tr>\n",
       "      <th>32</th>\n",
       "      <td>2020</td>\n",
       "      <td>216299</td>\n",
       "      <td>GRAPESWINE</td>\n",
       "      <td>99</td>\n",
       "      <td>Stanislaus</td>\n",
       "      <td>8500.0</td>\n",
       "      <td>9.49</td>\n",
       "      <td>80700.0</td>\n",
       "      <td>440.61</td>\n",
       "      <td>Tons</td>\n",
       "      <td>35557000</td>\n",
       "    </tr>\n",
       "    <tr>\n",
       "      <th>19</th>\n",
       "      <td>2020</td>\n",
       "      <td>216299</td>\n",
       "      <td>GRAPESWINE</td>\n",
       "      <td>67</td>\n",
       "      <td>Sacramento</td>\n",
       "      <td>36000.0</td>\n",
       "      <td>8.19</td>\n",
       "      <td>295000.0</td>\n",
       "      <td>528.73</td>\n",
       "      <td>Tons</td>\n",
       "      <td>155975000</td>\n",
       "    </tr>\n",
       "    <tr>\n",
       "      <th>35</th>\n",
       "      <td>2020</td>\n",
       "      <td>216299</td>\n",
       "      <td>GRAPESWINE</td>\n",
       "      <td>113</td>\n",
       "      <td>Yolo</td>\n",
       "      <td>19200.0</td>\n",
       "      <td>7.81</td>\n",
       "      <td>150000.0</td>\n",
       "      <td>699.67</td>\n",
       "      <td>Tons</td>\n",
       "      <td>104951000</td>\n",
       "    </tr>\n",
       "    <tr>\n",
       "      <th>7</th>\n",
       "      <td>2020</td>\n",
       "      <td>216299</td>\n",
       "      <td>GRAPESWINE</td>\n",
       "      <td>29</td>\n",
       "      <td>Kern</td>\n",
       "      <td>25200.0</td>\n",
       "      <td>7.54</td>\n",
       "      <td>190000.0</td>\n",
       "      <td>314.04</td>\n",
       "      <td>Tons</td>\n",
       "      <td>59668000</td>\n",
       "    </tr>\n",
       "    <tr>\n",
       "      <th>18</th>\n",
       "      <td>2020</td>\n",
       "      <td>216299</td>\n",
       "      <td>GRAPESWINE</td>\n",
       "      <td>65</td>\n",
       "      <td>Riverside</td>\n",
       "      <td>1740.0</td>\n",
       "      <td>6.72</td>\n",
       "      <td>11700.0</td>\n",
       "      <td>1623.93</td>\n",
       "      <td>Tons</td>\n",
       "      <td>19000000</td>\n",
       "    </tr>\n",
       "    <tr>\n",
       "      <th>23</th>\n",
       "      <td>2020</td>\n",
       "      <td>216299</td>\n",
       "      <td>GRAPESWINE</td>\n",
       "      <td>77</td>\n",
       "      <td>SanJoaquin</td>\n",
       "      <td>91200.0</td>\n",
       "      <td>6.67</td>\n",
       "      <td>608000.0</td>\n",
       "      <td>560.71</td>\n",
       "      <td>Tons</td>\n",
       "      <td>340913000</td>\n",
       "    </tr>\n",
       "    <tr>\n",
       "      <th>3</th>\n",
       "      <td>2020</td>\n",
       "      <td>216299</td>\n",
       "      <td>GRAPESWINE</td>\n",
       "      <td>11</td>\n",
       "      <td>Colusa</td>\n",
       "      <td>747.0</td>\n",
       "      <td>6.02</td>\n",
       "      <td>4500.0</td>\n",
       "      <td>684.67</td>\n",
       "      <td>Tons</td>\n",
       "      <td>3081000</td>\n",
       "    </tr>\n",
       "    <tr>\n",
       "      <th>30</th>\n",
       "      <td>2020</td>\n",
       "      <td>216299</td>\n",
       "      <td>GRAPESWINE</td>\n",
       "      <td>95</td>\n",
       "      <td>Solano</td>\n",
       "      <td>4000.0</td>\n",
       "      <td>5.60</td>\n",
       "      <td>22400.0</td>\n",
       "      <td>945.94</td>\n",
       "      <td>Tons</td>\n",
       "      <td>21189000</td>\n",
       "    </tr>\n",
       "    <tr>\n",
       "      <th>20</th>\n",
       "      <td>2020</td>\n",
       "      <td>216299</td>\n",
       "      <td>GRAPESWINE</td>\n",
       "      <td>69</td>\n",
       "      <td>SanBenito</td>\n",
       "      <td>4740.0</td>\n",
       "      <td>5.23</td>\n",
       "      <td>24800.0</td>\n",
       "      <td>1402.14</td>\n",
       "      <td>Tons</td>\n",
       "      <td>34773000</td>\n",
       "    </tr>\n",
       "    <tr>\n",
       "      <th>0</th>\n",
       "      <td>2020</td>\n",
       "      <td>216299</td>\n",
       "      <td>GRAPESWINE</td>\n",
       "      <td>1</td>\n",
       "      <td>Alameda</td>\n",
       "      <td>2530.0</td>\n",
       "      <td>5.14</td>\n",
       "      <td>13000.0</td>\n",
       "      <td>1497.69</td>\n",
       "      <td>Tons</td>\n",
       "      <td>19470000</td>\n",
       "    </tr>\n",
       "    <tr>\n",
       "      <th>4</th>\n",
       "      <td>2020</td>\n",
       "      <td>216299</td>\n",
       "      <td>GRAPESWINE</td>\n",
       "      <td>13</td>\n",
       "      <td>ContraCosta</td>\n",
       "      <td>1940.0</td>\n",
       "      <td>4.69</td>\n",
       "      <td>9090.0</td>\n",
       "      <td>751.27</td>\n",
       "      <td>Tons</td>\n",
       "      <td>6829000</td>\n",
       "    </tr>\n",
       "    <tr>\n",
       "      <th>33</th>\n",
       "      <td>2020</td>\n",
       "      <td>216299</td>\n",
       "      <td>GRAPESWINE</td>\n",
       "      <td>103</td>\n",
       "      <td>Tehama</td>\n",
       "      <td>138.0</td>\n",
       "      <td>4.23</td>\n",
       "      <td>584.0</td>\n",
       "      <td>1804.79</td>\n",
       "      <td>Tons</td>\n",
       "      <td>1054000</td>\n",
       "    </tr>\n",
       "    <tr>\n",
       "      <th>9</th>\n",
       "      <td>2020</td>\n",
       "      <td>216299</td>\n",
       "      <td>GRAPESWINE</td>\n",
       "      <td>33</td>\n",
       "      <td>Lake</td>\n",
       "      <td>9580.0</td>\n",
       "      <td>4.12</td>\n",
       "      <td>39500.0</td>\n",
       "      <td>1329.37</td>\n",
       "      <td>Tons</td>\n",
       "      <td>52510000</td>\n",
       "    </tr>\n",
       "    <tr>\n",
       "      <th>27</th>\n",
       "      <td>2020</td>\n",
       "      <td>216299</td>\n",
       "      <td>GRAPESWINE</td>\n",
       "      <td>85</td>\n",
       "      <td>SantaClara</td>\n",
       "      <td>1730.0</td>\n",
       "      <td>3.49</td>\n",
       "      <td>6040.0</td>\n",
       "      <td>1983.77</td>\n",
       "      <td>Tons</td>\n",
       "      <td>11982000</td>\n",
       "    </tr>\n",
       "    <tr>\n",
       "      <th>12</th>\n",
       "      <td>2020</td>\n",
       "      <td>216299</td>\n",
       "      <td>GRAPESWINE</td>\n",
       "      <td>45</td>\n",
       "      <td>Mendocino</td>\n",
       "      <td>16400.0</td>\n",
       "      <td>3.37</td>\n",
       "      <td>55200.0</td>\n",
       "      <td>1488.80</td>\n",
       "      <td>Tons</td>\n",
       "      <td>82182000</td>\n",
       "    </tr>\n",
       "    <tr>\n",
       "      <th>2</th>\n",
       "      <td>2020</td>\n",
       "      <td>216299</td>\n",
       "      <td>GRAPESWINE</td>\n",
       "      <td>9</td>\n",
       "      <td>Calaveras</td>\n",
       "      <td>579.0</td>\n",
       "      <td>3.06</td>\n",
       "      <td>1770.0</td>\n",
       "      <td>1325.99</td>\n",
       "      <td>Tons</td>\n",
       "      <td>2347000</td>\n",
       "    </tr>\n",
       "    <tr>\n",
       "      <th>24</th>\n",
       "      <td>2020</td>\n",
       "      <td>216299</td>\n",
       "      <td>GRAPESWINE</td>\n",
       "      <td>79</td>\n",
       "      <td>SanLuisObispo</td>\n",
       "      <td>43800.0</td>\n",
       "      <td>3.04</td>\n",
       "      <td>133000.0</td>\n",
       "      <td>1640.89</td>\n",
       "      <td>Tons</td>\n",
       "      <td>218238000</td>\n",
       "    </tr>\n",
       "    <tr>\n",
       "      <th>26</th>\n",
       "      <td>2020</td>\n",
       "      <td>216299</td>\n",
       "      <td>GRAPESWINE</td>\n",
       "      <td>83</td>\n",
       "      <td>SantaBarbara</td>\n",
       "      <td>14400.0</td>\n",
       "      <td>2.97</td>\n",
       "      <td>42800.0</td>\n",
       "      <td>2192.43</td>\n",
       "      <td>Tons</td>\n",
       "      <td>93836000</td>\n",
       "    </tr>\n",
       "    <tr>\n",
       "      <th>17</th>\n",
       "      <td>2020</td>\n",
       "      <td>216299</td>\n",
       "      <td>GRAPESWINE</td>\n",
       "      <td>61</td>\n",
       "      <td>Placer</td>\n",
       "      <td>315.0</td>\n",
       "      <td>2.79</td>\n",
       "      <td>879.0</td>\n",
       "      <td>2235.49</td>\n",
       "      <td>Tons</td>\n",
       "      <td>1965000</td>\n",
       "    </tr>\n",
       "    <tr>\n",
       "      <th>31</th>\n",
       "      <td>2020</td>\n",
       "      <td>216299</td>\n",
       "      <td>GRAPESWINE</td>\n",
       "      <td>97</td>\n",
       "      <td>Sonoma</td>\n",
       "      <td>56800.0</td>\n",
       "      <td>2.61</td>\n",
       "      <td>148000.0</td>\n",
       "      <td>2375.08</td>\n",
       "      <td>Tons</td>\n",
       "      <td>351512000</td>\n",
       "    </tr>\n",
       "    <tr>\n",
       "      <th>29</th>\n",
       "      <td>2020</td>\n",
       "      <td>216299</td>\n",
       "      <td>GRAPESWINE</td>\n",
       "      <td>89</td>\n",
       "      <td>Shasta</td>\n",
       "      <td>200.0</td>\n",
       "      <td>2.50</td>\n",
       "      <td>500.0</td>\n",
       "      <td>1000.00</td>\n",
       "      <td>Tons</td>\n",
       "      <td>500000</td>\n",
       "    </tr>\n",
       "    <tr>\n",
       "      <th>28</th>\n",
       "      <td>2020</td>\n",
       "      <td>216299</td>\n",
       "      <td>GRAPESWINE</td>\n",
       "      <td>87</td>\n",
       "      <td>SantaCruz</td>\n",
       "      <td>670.0</td>\n",
       "      <td>2.39</td>\n",
       "      <td>1600.0</td>\n",
       "      <td>3008.75</td>\n",
       "      <td>Tons</td>\n",
       "      <td>4814000</td>\n",
       "    </tr>\n",
       "    <tr>\n",
       "      <th>5</th>\n",
       "      <td>2020</td>\n",
       "      <td>216299</td>\n",
       "      <td>GRAPESWINE</td>\n",
       "      <td>17</td>\n",
       "      <td>ElDorado</td>\n",
       "      <td>2620.0</td>\n",
       "      <td>2.38</td>\n",
       "      <td>6240.0</td>\n",
       "      <td>1548.56</td>\n",
       "      <td>Tons</td>\n",
       "      <td>9663000</td>\n",
       "    </tr>\n",
       "    <tr>\n",
       "      <th>1</th>\n",
       "      <td>2020</td>\n",
       "      <td>216299</td>\n",
       "      <td>GRAPESWINE</td>\n",
       "      <td>5</td>\n",
       "      <td>Amador</td>\n",
       "      <td>5360.0</td>\n",
       "      <td>2.31</td>\n",
       "      <td>12400.0</td>\n",
       "      <td>1318.31</td>\n",
       "      <td>Tons</td>\n",
       "      <td>16347000</td>\n",
       "    </tr>\n",
       "    <tr>\n",
       "      <th>22</th>\n",
       "      <td>2020</td>\n",
       "      <td>216299</td>\n",
       "      <td>GRAPESWINE</td>\n",
       "      <td>73</td>\n",
       "      <td>SanDiego</td>\n",
       "      <td>1370.0</td>\n",
       "      <td>2.24</td>\n",
       "      <td>3070.0</td>\n",
       "      <td>1695.77</td>\n",
       "      <td>Tons</td>\n",
       "      <td>5206000</td>\n",
       "    </tr>\n",
       "    <tr>\n",
       "      <th>15</th>\n",
       "      <td>2020</td>\n",
       "      <td>216299</td>\n",
       "      <td>GRAPESWINE</td>\n",
       "      <td>55</td>\n",
       "      <td>Napa</td>\n",
       "      <td>45200.0</td>\n",
       "      <td>2.20</td>\n",
       "      <td>99300.0</td>\n",
       "      <td>4646.48</td>\n",
       "      <td>Tons</td>\n",
       "      <td>461395000</td>\n",
       "    </tr>\n",
       "    <tr>\n",
       "      <th>14</th>\n",
       "      <td>2020</td>\n",
       "      <td>216299</td>\n",
       "      <td>GRAPESWINE</td>\n",
       "      <td>53</td>\n",
       "      <td>Monterey</td>\n",
       "      <td>44900.0</td>\n",
       "      <td>2.10</td>\n",
       "      <td>94300.0</td>\n",
       "      <td>1123.98</td>\n",
       "      <td>Tons</td>\n",
       "      <td>105991000</td>\n",
       "    </tr>\n",
       "    <tr>\n",
       "      <th>11</th>\n",
       "      <td>2020</td>\n",
       "      <td>216299</td>\n",
       "      <td>GRAPESWINE</td>\n",
       "      <td>41</td>\n",
       "      <td>Marin</td>\n",
       "      <td>195.0</td>\n",
       "      <td>1.33</td>\n",
       "      <td>260.0</td>\n",
       "      <td>3607.69</td>\n",
       "      <td>Tons</td>\n",
       "      <td>938000</td>\n",
       "    </tr>\n",
       "    <tr>\n",
       "      <th>21</th>\n",
       "      <td>2020</td>\n",
       "      <td>216299</td>\n",
       "      <td>GRAPESWINE</td>\n",
       "      <td>71</td>\n",
       "      <td>SanBernardino</td>\n",
       "      <td>372.0</td>\n",
       "      <td>0.61</td>\n",
       "      <td>227.0</td>\n",
       "      <td>1938.33</td>\n",
       "      <td>Tons</td>\n",
       "      <td>440000</td>\n",
       "    </tr>\n",
       "    <tr>\n",
       "      <th>16</th>\n",
       "      <td>2020</td>\n",
       "      <td>216299</td>\n",
       "      <td>GRAPESWINE</td>\n",
       "      <td>57</td>\n",
       "      <td>Nevada</td>\n",
       "      <td>408.0</td>\n",
       "      <td>NaN</td>\n",
       "      <td>NaN</td>\n",
       "      <td>NaN</td>\n",
       "      <td>NaN</td>\n",
       "      <td>2666000</td>\n",
       "    </tr>\n",
       "    <tr>\n",
       "      <th>25</th>\n",
       "      <td>2020</td>\n",
       "      <td>216299</td>\n",
       "      <td>GRAPESWINE</td>\n",
       "      <td>81</td>\n",
       "      <td>SanMateo</td>\n",
       "      <td>176.0</td>\n",
       "      <td>NaN</td>\n",
       "      <td>NaN</td>\n",
       "      <td>NaN</td>\n",
       "      <td>NaN</td>\n",
       "      <td>1312000</td>\n",
       "    </tr>\n",
       "  </tbody>\n",
       "</table>\n",
       "</div>\n",
       "      <button class=\"colab-df-convert\" onclick=\"convertToInteractive('df-9bf70d20-bfc3-46ec-83bd-52a2a84b597d')\"\n",
       "              title=\"Convert this dataframe to an interactive table.\"\n",
       "              style=\"display:none;\">\n",
       "        \n",
       "  <svg xmlns=\"http://www.w3.org/2000/svg\" height=\"24px\"viewBox=\"0 0 24 24\"\n",
       "       width=\"24px\">\n",
       "    <path d=\"M0 0h24v24H0V0z\" fill=\"none\"/>\n",
       "    <path d=\"M18.56 5.44l.94 2.06.94-2.06 2.06-.94-2.06-.94-.94-2.06-.94 2.06-2.06.94zm-11 1L8.5 8.5l.94-2.06 2.06-.94-2.06-.94L8.5 2.5l-.94 2.06-2.06.94zm10 10l.94 2.06.94-2.06 2.06-.94-2.06-.94-.94-2.06-.94 2.06-2.06.94z\"/><path d=\"M17.41 7.96l-1.37-1.37c-.4-.4-.92-.59-1.43-.59-.52 0-1.04.2-1.43.59L10.3 9.45l-7.72 7.72c-.78.78-.78 2.05 0 2.83L4 21.41c.39.39.9.59 1.41.59.51 0 1.02-.2 1.41-.59l7.78-7.78 2.81-2.81c.8-.78.8-2.07 0-2.86zM5.41 20L4 18.59l7.72-7.72 1.47 1.35L5.41 20z\"/>\n",
       "  </svg>\n",
       "      </button>\n",
       "      \n",
       "  <style>\n",
       "    .colab-df-container {\n",
       "      display:flex;\n",
       "      flex-wrap:wrap;\n",
       "      gap: 12px;\n",
       "    }\n",
       "\n",
       "    .colab-df-convert {\n",
       "      background-color: #E8F0FE;\n",
       "      border: none;\n",
       "      border-radius: 50%;\n",
       "      cursor: pointer;\n",
       "      display: none;\n",
       "      fill: #1967D2;\n",
       "      height: 32px;\n",
       "      padding: 0 0 0 0;\n",
       "      width: 32px;\n",
       "    }\n",
       "\n",
       "    .colab-df-convert:hover {\n",
       "      background-color: #E2EBFA;\n",
       "      box-shadow: 0px 1px 2px rgba(60, 64, 67, 0.3), 0px 1px 3px 1px rgba(60, 64, 67, 0.15);\n",
       "      fill: #174EA6;\n",
       "    }\n",
       "\n",
       "    [theme=dark] .colab-df-convert {\n",
       "      background-color: #3B4455;\n",
       "      fill: #D2E3FC;\n",
       "    }\n",
       "\n",
       "    [theme=dark] .colab-df-convert:hover {\n",
       "      background-color: #434B5C;\n",
       "      box-shadow: 0px 1px 3px 1px rgba(0, 0, 0, 0.15);\n",
       "      filter: drop-shadow(0px 1px 2px rgba(0, 0, 0, 0.3));\n",
       "      fill: #FFFFFF;\n",
       "    }\n",
       "  </style>\n",
       "\n",
       "      <script>\n",
       "        const buttonEl =\n",
       "          document.querySelector('#df-9bf70d20-bfc3-46ec-83bd-52a2a84b597d button.colab-df-convert');\n",
       "        buttonEl.style.display =\n",
       "          google.colab.kernel.accessAllowed ? 'block' : 'none';\n",
       "\n",
       "        async function convertToInteractive(key) {\n",
       "          const element = document.querySelector('#df-9bf70d20-bfc3-46ec-83bd-52a2a84b597d');\n",
       "          const dataTable =\n",
       "            await google.colab.kernel.invokeFunction('convertToInteractive',\n",
       "                                                     [key], {});\n",
       "          if (!dataTable) return;\n",
       "\n",
       "          const docLinkHtml = 'Like what you see? Visit the ' +\n",
       "            '<a target=\"_blank\" href=https://colab.research.google.com/notebooks/data_table.ipynb>data table notebook</a>'\n",
       "            + ' to learn more about interactive tables.';\n",
       "          element.innerHTML = '';\n",
       "          dataTable['output_type'] = 'display_data';\n",
       "          await google.colab.output.renderOutput(dataTable, element);\n",
       "          const docLink = document.createElement('div');\n",
       "          docLink.innerHTML = docLinkHtml;\n",
       "          element.appendChild(docLink);\n",
       "        }\n",
       "      </script>\n",
       "    </div>\n",
       "  </div>\n",
       "  "
      ],
      "text/plain": [
       "    Year  CommodityCode    CropName  CountyCode         County  \\\n",
       "34  2020         216299  GRAPESWINE         107         Tulare   \n",
       "8   2020         216299  GRAPESWINE          31          Kings   \n",
       "6   2020         216299  GRAPESWINE          19         Fresno   \n",
       "10  2020         216299  GRAPESWINE          39         Madera   \n",
       "13  2020         216299  GRAPESWINE          47         Merced   \n",
       "32  2020         216299  GRAPESWINE          99     Stanislaus   \n",
       "19  2020         216299  GRAPESWINE          67     Sacramento   \n",
       "35  2020         216299  GRAPESWINE         113           Yolo   \n",
       "7   2020         216299  GRAPESWINE          29           Kern   \n",
       "18  2020         216299  GRAPESWINE          65      Riverside   \n",
       "23  2020         216299  GRAPESWINE          77     SanJoaquin   \n",
       "3   2020         216299  GRAPESWINE          11         Colusa   \n",
       "30  2020         216299  GRAPESWINE          95         Solano   \n",
       "20  2020         216299  GRAPESWINE          69      SanBenito   \n",
       "0   2020         216299  GRAPESWINE           1        Alameda   \n",
       "4   2020         216299  GRAPESWINE          13    ContraCosta   \n",
       "33  2020         216299  GRAPESWINE         103         Tehama   \n",
       "9   2020         216299  GRAPESWINE          33           Lake   \n",
       "27  2020         216299  GRAPESWINE          85     SantaClara   \n",
       "12  2020         216299  GRAPESWINE          45      Mendocino   \n",
       "2   2020         216299  GRAPESWINE           9      Calaveras   \n",
       "24  2020         216299  GRAPESWINE          79  SanLuisObispo   \n",
       "26  2020         216299  GRAPESWINE          83   SantaBarbara   \n",
       "17  2020         216299  GRAPESWINE          61         Placer   \n",
       "31  2020         216299  GRAPESWINE          97         Sonoma   \n",
       "29  2020         216299  GRAPESWINE          89         Shasta   \n",
       "28  2020         216299  GRAPESWINE          87      SantaCruz   \n",
       "5   2020         216299  GRAPESWINE          17       ElDorado   \n",
       "1   2020         216299  GRAPESWINE           5         Amador   \n",
       "22  2020         216299  GRAPESWINE          73       SanDiego   \n",
       "15  2020         216299  GRAPESWINE          55           Napa   \n",
       "14  2020         216299  GRAPESWINE          53       Monterey   \n",
       "11  2020         216299  GRAPESWINE          41          Marin   \n",
       "21  2020         216299  GRAPESWINE          71  SanBernardino   \n",
       "16  2020         216299  GRAPESWINE          57         Nevada   \n",
       "25  2020         216299  GRAPESWINE          81       SanMateo   \n",
       "\n",
       "    HarvestedAcres  Yield(Unit/Acre)  Production  Price(Dollars/Unit)  Unit  \\\n",
       "34          6500.0             17.23    112000.0               317.00  Tons   \n",
       "8           3590.0             16.46     59100.0               286.87  Tons   \n",
       "6          56900.0             12.13    690000.0               362.14  Tons   \n",
       "10         33000.0             11.82    390000.0               348.98  Tons   \n",
       "13         13200.0             10.91    144000.0               440.41  Tons   \n",
       "32          8500.0              9.49     80700.0               440.61  Tons   \n",
       "19         36000.0              8.19    295000.0               528.73  Tons   \n",
       "35         19200.0              7.81    150000.0               699.67  Tons   \n",
       "7          25200.0              7.54    190000.0               314.04  Tons   \n",
       "18          1740.0              6.72     11700.0              1623.93  Tons   \n",
       "23         91200.0              6.67    608000.0               560.71  Tons   \n",
       "3            747.0              6.02      4500.0               684.67  Tons   \n",
       "30          4000.0              5.60     22400.0               945.94  Tons   \n",
       "20          4740.0              5.23     24800.0              1402.14  Tons   \n",
       "0           2530.0              5.14     13000.0              1497.69  Tons   \n",
       "4           1940.0              4.69      9090.0               751.27  Tons   \n",
       "33           138.0              4.23       584.0              1804.79  Tons   \n",
       "9           9580.0              4.12     39500.0              1329.37  Tons   \n",
       "27          1730.0              3.49      6040.0              1983.77  Tons   \n",
       "12         16400.0              3.37     55200.0              1488.80  Tons   \n",
       "2            579.0              3.06      1770.0              1325.99  Tons   \n",
       "24         43800.0              3.04    133000.0              1640.89  Tons   \n",
       "26         14400.0              2.97     42800.0              2192.43  Tons   \n",
       "17           315.0              2.79       879.0              2235.49  Tons   \n",
       "31         56800.0              2.61    148000.0              2375.08  Tons   \n",
       "29           200.0              2.50       500.0              1000.00  Tons   \n",
       "28           670.0              2.39      1600.0              3008.75  Tons   \n",
       "5           2620.0              2.38      6240.0              1548.56  Tons   \n",
       "1           5360.0              2.31     12400.0              1318.31  Tons   \n",
       "22          1370.0              2.24      3070.0              1695.77  Tons   \n",
       "15         45200.0              2.20     99300.0              4646.48  Tons   \n",
       "14         44900.0              2.10     94300.0              1123.98  Tons   \n",
       "11           195.0              1.33       260.0              3607.69  Tons   \n",
       "21           372.0              0.61       227.0              1938.33  Tons   \n",
       "16           408.0               NaN         NaN                  NaN   NaN   \n",
       "25           176.0               NaN         NaN                  NaN   NaN   \n",
       "\n",
       "    Value(Dollars)  \n",
       "34        35504000  \n",
       "8         16954000  \n",
       "6        249877000  \n",
       "10       136101000  \n",
       "13        63419000  \n",
       "32        35557000  \n",
       "19       155975000  \n",
       "35       104951000  \n",
       "7         59668000  \n",
       "18        19000000  \n",
       "23       340913000  \n",
       "3          3081000  \n",
       "30        21189000  \n",
       "20        34773000  \n",
       "0         19470000  \n",
       "4          6829000  \n",
       "33         1054000  \n",
       "9         52510000  \n",
       "27        11982000  \n",
       "12        82182000  \n",
       "2          2347000  \n",
       "24       218238000  \n",
       "26        93836000  \n",
       "17         1965000  \n",
       "31       351512000  \n",
       "29          500000  \n",
       "28         4814000  \n",
       "5          9663000  \n",
       "1         16347000  \n",
       "22         5206000  \n",
       "15       461395000  \n",
       "14       105991000  \n",
       "11          938000  \n",
       "21          440000  \n",
       "16         2666000  \n",
       "25         1312000  "
      ]
     },
     "execution_count": 126,
     "metadata": {},
     "output_type": "execute_result"
    }
   ],
   "source": [
    "data_2020 = data.loc[(data['Year'] == 2020)]\n",
    "\n",
    "data_2020.sort_values(by=['Yield(Unit/Acre)'], ascending=False)"
   ]
  },
  {
   "cell_type": "markdown",
   "metadata": {
    "id": "1qskYknoxN1s"
   },
   "source": [
    "There is big disproportion between the best and the worst yields. What is interesting San Joaquin is in 11th position despite the fact that has the biggest number of harvested acres. Sonoma has also not good position."
   ]
  }
 ],
 "metadata": {
  "colab": {
   "collapsed_sections": [],
   "provenance": []
  },
  "kernelspec": {
   "display_name": "Python 3",
   "language": "python",
   "name": "python3"
  },
  "language_info": {
   "codemirror_mode": {
    "name": "ipython",
    "version": 3
   },
   "file_extension": ".py",
   "mimetype": "text/x-python",
   "name": "python",
   "nbconvert_exporter": "python",
   "pygments_lexer": "ipython3",
   "version": "3.8.8"
  }
 },
 "nbformat": 4,
 "nbformat_minor": 1
}
