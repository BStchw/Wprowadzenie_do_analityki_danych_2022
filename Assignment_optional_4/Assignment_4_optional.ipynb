{
  "nbformat": 4,
  "nbformat_minor": 0,
  "metadata": {
    "colab": {
      "provenance": []
    },
    "kernelspec": {
      "name": "python3",
      "display_name": "Python 3"
    },
    "language_info": {
      "name": "python"
    }
  },
  "cells": [
    {
      "cell_type": "code",
      "execution_count": 19,
      "metadata": {
        "colab": {
          "base_uri": "https://localhost:8080/",
          "height": 739
        },
        "id": "oBlJKlXRdM1H",
        "outputId": "0ef754b5-290f-420f-cd5f-9c3a5fd39307"
      },
      "outputs": [
        {
          "output_type": "execute_result",
          "data": {
            "text/plain": [
              "   Id   ProductId          UserId                      ProfileName  \\\n",
              "0   1  B001E4KFG0  A3SGXH7AUHU8GW                       delmartian   \n",
              "1   2  B00813GRG4  A1D87F6ZCVE5NK                           dll pa   \n",
              "2   3  B000LQOCH0   ABXLMWJIXXAIN  Natalia Corres \"Natalia Corres\"   \n",
              "3   4  B000UA0QIQ  A395BORC6FGVXV                             Karl   \n",
              "4   5  B006K2ZZ7K  A1UQRSCLF8GW1T    Michael D. Bigham \"M. Wassir\"   \n",
              "\n",
              "   HelpfulnessNumerator  HelpfulnessDenominator  Score        Time  \\\n",
              "0                     1                       1      5  1303862400   \n",
              "1                     0                       0      1  1346976000   \n",
              "2                     1                       1      4  1219017600   \n",
              "3                     3                       3      2  1307923200   \n",
              "4                     0                       0      5  1350777600   \n",
              "\n",
              "                 Summary                                               Text  \n",
              "0  Good Quality Dog Food  I have bought several of the Vitality canned d...  \n",
              "1      Not as Advertised  Product arrived labeled as Jumbo Salted Peanut...  \n",
              "2  \"Delight\" says it all  This is a confection that has been around a fe...  \n",
              "3         Cough Medicine  If you are looking for the secret ingredient i...  \n",
              "4            Great taffy  Great taffy at a great price.  There was a wid...  "
            ],
            "text/html": [
              "\n",
              "  <div id=\"df-dd4ecd7c-c846-4d3c-aa2f-457d1cd36f71\">\n",
              "    <div class=\"colab-df-container\">\n",
              "      <div>\n",
              "<style scoped>\n",
              "    .dataframe tbody tr th:only-of-type {\n",
              "        vertical-align: middle;\n",
              "    }\n",
              "\n",
              "    .dataframe tbody tr th {\n",
              "        vertical-align: top;\n",
              "    }\n",
              "\n",
              "    .dataframe thead th {\n",
              "        text-align: right;\n",
              "    }\n",
              "</style>\n",
              "<table border=\"1\" class=\"dataframe\">\n",
              "  <thead>\n",
              "    <tr style=\"text-align: right;\">\n",
              "      <th></th>\n",
              "      <th>Id</th>\n",
              "      <th>ProductId</th>\n",
              "      <th>UserId</th>\n",
              "      <th>ProfileName</th>\n",
              "      <th>HelpfulnessNumerator</th>\n",
              "      <th>HelpfulnessDenominator</th>\n",
              "      <th>Score</th>\n",
              "      <th>Time</th>\n",
              "      <th>Summary</th>\n",
              "      <th>Text</th>\n",
              "    </tr>\n",
              "  </thead>\n",
              "  <tbody>\n",
              "    <tr>\n",
              "      <th>0</th>\n",
              "      <td>1</td>\n",
              "      <td>B001E4KFG0</td>\n",
              "      <td>A3SGXH7AUHU8GW</td>\n",
              "      <td>delmartian</td>\n",
              "      <td>1</td>\n",
              "      <td>1</td>\n",
              "      <td>5</td>\n",
              "      <td>1303862400</td>\n",
              "      <td>Good Quality Dog Food</td>\n",
              "      <td>I have bought several of the Vitality canned d...</td>\n",
              "    </tr>\n",
              "    <tr>\n",
              "      <th>1</th>\n",
              "      <td>2</td>\n",
              "      <td>B00813GRG4</td>\n",
              "      <td>A1D87F6ZCVE5NK</td>\n",
              "      <td>dll pa</td>\n",
              "      <td>0</td>\n",
              "      <td>0</td>\n",
              "      <td>1</td>\n",
              "      <td>1346976000</td>\n",
              "      <td>Not as Advertised</td>\n",
              "      <td>Product arrived labeled as Jumbo Salted Peanut...</td>\n",
              "    </tr>\n",
              "    <tr>\n",
              "      <th>2</th>\n",
              "      <td>3</td>\n",
              "      <td>B000LQOCH0</td>\n",
              "      <td>ABXLMWJIXXAIN</td>\n",
              "      <td>Natalia Corres \"Natalia Corres\"</td>\n",
              "      <td>1</td>\n",
              "      <td>1</td>\n",
              "      <td>4</td>\n",
              "      <td>1219017600</td>\n",
              "      <td>\"Delight\" says it all</td>\n",
              "      <td>This is a confection that has been around a fe...</td>\n",
              "    </tr>\n",
              "    <tr>\n",
              "      <th>3</th>\n",
              "      <td>4</td>\n",
              "      <td>B000UA0QIQ</td>\n",
              "      <td>A395BORC6FGVXV</td>\n",
              "      <td>Karl</td>\n",
              "      <td>3</td>\n",
              "      <td>3</td>\n",
              "      <td>2</td>\n",
              "      <td>1307923200</td>\n",
              "      <td>Cough Medicine</td>\n",
              "      <td>If you are looking for the secret ingredient i...</td>\n",
              "    </tr>\n",
              "    <tr>\n",
              "      <th>4</th>\n",
              "      <td>5</td>\n",
              "      <td>B006K2ZZ7K</td>\n",
              "      <td>A1UQRSCLF8GW1T</td>\n",
              "      <td>Michael D. Bigham \"M. Wassir\"</td>\n",
              "      <td>0</td>\n",
              "      <td>0</td>\n",
              "      <td>5</td>\n",
              "      <td>1350777600</td>\n",
              "      <td>Great taffy</td>\n",
              "      <td>Great taffy at a great price.  There was a wid...</td>\n",
              "    </tr>\n",
              "  </tbody>\n",
              "</table>\n",
              "</div>\n",
              "      <button class=\"colab-df-convert\" onclick=\"convertToInteractive('df-dd4ecd7c-c846-4d3c-aa2f-457d1cd36f71')\"\n",
              "              title=\"Convert this dataframe to an interactive table.\"\n",
              "              style=\"display:none;\">\n",
              "        \n",
              "  <svg xmlns=\"http://www.w3.org/2000/svg\" height=\"24px\"viewBox=\"0 0 24 24\"\n",
              "       width=\"24px\">\n",
              "    <path d=\"M0 0h24v24H0V0z\" fill=\"none\"/>\n",
              "    <path d=\"M18.56 5.44l.94 2.06.94-2.06 2.06-.94-2.06-.94-.94-2.06-.94 2.06-2.06.94zm-11 1L8.5 8.5l.94-2.06 2.06-.94-2.06-.94L8.5 2.5l-.94 2.06-2.06.94zm10 10l.94 2.06.94-2.06 2.06-.94-2.06-.94-.94-2.06-.94 2.06-2.06.94z\"/><path d=\"M17.41 7.96l-1.37-1.37c-.4-.4-.92-.59-1.43-.59-.52 0-1.04.2-1.43.59L10.3 9.45l-7.72 7.72c-.78.78-.78 2.05 0 2.83L4 21.41c.39.39.9.59 1.41.59.51 0 1.02-.2 1.41-.59l7.78-7.78 2.81-2.81c.8-.78.8-2.07 0-2.86zM5.41 20L4 18.59l7.72-7.72 1.47 1.35L5.41 20z\"/>\n",
              "  </svg>\n",
              "      </button>\n",
              "      \n",
              "  <style>\n",
              "    .colab-df-container {\n",
              "      display:flex;\n",
              "      flex-wrap:wrap;\n",
              "      gap: 12px;\n",
              "    }\n",
              "\n",
              "    .colab-df-convert {\n",
              "      background-color: #E8F0FE;\n",
              "      border: none;\n",
              "      border-radius: 50%;\n",
              "      cursor: pointer;\n",
              "      display: none;\n",
              "      fill: #1967D2;\n",
              "      height: 32px;\n",
              "      padding: 0 0 0 0;\n",
              "      width: 32px;\n",
              "    }\n",
              "\n",
              "    .colab-df-convert:hover {\n",
              "      background-color: #E2EBFA;\n",
              "      box-shadow: 0px 1px 2px rgba(60, 64, 67, 0.3), 0px 1px 3px 1px rgba(60, 64, 67, 0.15);\n",
              "      fill: #174EA6;\n",
              "    }\n",
              "\n",
              "    [theme=dark] .colab-df-convert {\n",
              "      background-color: #3B4455;\n",
              "      fill: #D2E3FC;\n",
              "    }\n",
              "\n",
              "    [theme=dark] .colab-df-convert:hover {\n",
              "      background-color: #434B5C;\n",
              "      box-shadow: 0px 1px 3px 1px rgba(0, 0, 0, 0.15);\n",
              "      filter: drop-shadow(0px 1px 2px rgba(0, 0, 0, 0.3));\n",
              "      fill: #FFFFFF;\n",
              "    }\n",
              "  </style>\n",
              "\n",
              "      <script>\n",
              "        const buttonEl =\n",
              "          document.querySelector('#df-dd4ecd7c-c846-4d3c-aa2f-457d1cd36f71 button.colab-df-convert');\n",
              "        buttonEl.style.display =\n",
              "          google.colab.kernel.accessAllowed ? 'block' : 'none';\n",
              "\n",
              "        async function convertToInteractive(key) {\n",
              "          const element = document.querySelector('#df-dd4ecd7c-c846-4d3c-aa2f-457d1cd36f71');\n",
              "          const dataTable =\n",
              "            await google.colab.kernel.invokeFunction('convertToInteractive',\n",
              "                                                     [key], {});\n",
              "          if (!dataTable) return;\n",
              "\n",
              "          const docLinkHtml = 'Like what you see? Visit the ' +\n",
              "            '<a target=\"_blank\" href=https://colab.research.google.com/notebooks/data_table.ipynb>data table notebook</a>'\n",
              "            + ' to learn more about interactive tables.';\n",
              "          element.innerHTML = '';\n",
              "          dataTable['output_type'] = 'display_data';\n",
              "          await google.colab.output.renderOutput(dataTable, element);\n",
              "          const docLink = document.createElement('div');\n",
              "          docLink.innerHTML = docLinkHtml;\n",
              "          element.appendChild(docLink);\n",
              "        }\n",
              "      </script>\n",
              "    </div>\n",
              "  </div>\n",
              "  "
            ]
          },
          "metadata": {},
          "execution_count": 19
        }
      ],
      "source": [
        "import pandas as pd\n",
        "import numpy as np\n",
        "import matplotlib.pyplot as plt\n",
        "import string\n",
        "from sklearn.linear_model import LogisticRegression\n",
        "\n",
        "def remove_punctuation(text):\n",
        "    import string\n",
        "    translator = str.maketrans('', '', string.punctuation)\n",
        "    return text.translate(translator)\n",
        "\n",
        "rev_df = pd.read_csv('Reviews.csv')\n",
        "rev_df.head()"
      ]
    },
    {
      "cell_type": "markdown",
      "source": [
        "Reviews.csv contains data about products and their reviews from Internet."
      ],
      "metadata": {
        "id": "lycL83tBJTa_"
      }
    },
    {
      "cell_type": "markdown",
      "source": [
        "Removing punctation:"
      ],
      "metadata": {
        "id": "U2ZnfgDNJ54V"
      }
    },
    {
      "cell_type": "code",
      "source": [
        "rev_df['Summary'] = rev_df['Summary'].astype(str) \n",
        "rev_df[\"Summary\"] = rev_df[\"Summary\"].apply(remove_punctuation)\n"
      ],
      "metadata": {
        "id": "e6VQyPgg8cSc"
      },
      "execution_count": 20,
      "outputs": []
    },
    {
      "cell_type": "markdown",
      "source": [
        "Checking missing values in variables:"
      ],
      "metadata": {
        "id": "CERlgLBcQae2"
      }
    },
    {
      "cell_type": "code",
      "source": [
        "rev_df.isnull().sum()"
      ],
      "metadata": {
        "colab": {
          "base_uri": "https://localhost:8080/"
        },
        "id": "ozRO17ToBscD",
        "outputId": "592e9847-0989-42dc-f5bf-67c77b3a33c0"
      },
      "execution_count": 21,
      "outputs": [
        {
          "output_type": "execute_result",
          "data": {
            "text/plain": [
              "Id                        0\n",
              "ProductId                 0\n",
              "UserId                    0\n",
              "ProfileName               1\n",
              "HelpfulnessNumerator      0\n",
              "HelpfulnessDenominator    0\n",
              "Score                     0\n",
              "Time                      0\n",
              "Summary                   0\n",
              "Text                      0\n",
              "dtype: int64"
            ]
          },
          "metadata": {},
          "execution_count": 21
        }
      ]
    },
    {
      "cell_type": "markdown",
      "source": [
        "We can see that there are no missing values in the dataset."
      ],
      "metadata": {
        "id": "DPC1JyVXQiuT"
      }
    },
    {
      "cell_type": "markdown",
      "source": [
        "Dropping all the entries with neutral sentiment:"
      ],
      "metadata": {
        "id": "ge3ZLLw_KJXe"
      }
    },
    {
      "cell_type": "code",
      "source": [
        "rev_df = rev_df[rev_df.Score != 3]\n",
        "#short test:\n",
        "sum(rev_df[\"Score\"] == 3)"
      ],
      "metadata": {
        "colab": {
          "base_uri": "https://localhost:8080/"
        },
        "id": "dINgoqXSIpJ5",
        "outputId": "8b5f99e5-8648-4c08-d647-e62298a03504"
      },
      "execution_count": 22,
      "outputs": [
        {
          "output_type": "execute_result",
          "data": {
            "text/plain": [
              "0"
            ]
          },
          "metadata": {},
          "execution_count": 22
        }
      ]
    },
    {
      "cell_type": "markdown",
      "source": [
        " Setting all positive ratings to 1 and negative to -1:"
      ],
      "metadata": {
        "id": "yNQ1q_KtKdYt"
      }
    },
    {
      "cell_type": "code",
      "source": [
        "rev_df[\"Score\"].replace(2, -1, inplace=True)\n",
        "rev_df[\"Score\"].replace(1, -1, inplace=True)\n",
        "rev_df[\"Score\"].replace(4, 1, inplace=True)\n",
        "rev_df[\"Score\"].replace(5, 1, inplace=True)\n",
        "#short test:\n",
        "sum(rev_df[\"Score\"]**2 != 1)"
      ],
      "metadata": {
        "colab": {
          "base_uri": "https://localhost:8080/"
        },
        "id": "l3S6vFvAI_A7",
        "outputId": "e5632a77-d814-4739-cf01-bc5a786a88dd"
      },
      "execution_count": 23,
      "outputs": [
        {
          "output_type": "execute_result",
          "data": {
            "text/plain": [
              "0"
            ]
          },
          "metadata": {},
          "execution_count": 23
        }
      ]
    },
    {
      "cell_type": "markdown",
      "source": [
        "Plotting the results:"
      ],
      "metadata": {
        "id": "lJnETf3KKmwo"
      }
    },
    {
      "cell_type": "code",
      "source": [
        "plt.rcParams[\"figure.figsize\"] = (8, 8)\n",
        "plt.pie(rev_df['Score'].value_counts(), labels=rev_df['Score'].unique().tolist(), autopct='%1.1f%%')\n",
        "labels = ['Positive', 'Negative']\n",
        "plt.legend(labels)\n",
        "plt.show()"
      ],
      "metadata": {
        "colab": {
          "base_uri": "https://localhost:8080/",
          "height": 466
        },
        "id": "RuaWHe2KNQ_G",
        "outputId": "85b5535d-76e9-41e1-f05e-98459bd0f6cc"
      },
      "execution_count": 24,
      "outputs": [
        {
          "output_type": "display_data",
          "data": {
            "text/plain": [
              "<Figure size 576x576 with 1 Axes>"
            ],
            "image/png": "[encoded data removed]"
          },
          "metadata": {}
        }
      ]
    },
    {
      "cell_type": "markdown",
      "source": [
        "We see that most of opinions are positive."
      ],
      "metadata": {
        "id": "8_UHQG6hLbdg"
      }
    },
    {
      "cell_type": "markdown",
      "source": [
        "Splitting data into training and test:"
      ],
      "metadata": {
        "id": "H6JLSRJ4ZyCT"
      }
    },
    {
      "cell_type": "code",
      "source": [
        "from sklearn.model_selection import train_test_split\n",
        "\n",
        "train , test = train_test_split(rev_df, train_size=0.8, test_size=0.2)"
      ],
      "metadata": {
        "id": "sYaWxjriKAlN"
      },
      "execution_count": 44,
      "outputs": []
    },
    {
      "cell_type": "code",
      "source": [
        "from sklearn.feature_extraction.text import CountVectorizer\n",
        "vectorizer = CountVectorizer()\n",
        "\n",
        "x_train = vectorizer.fit_transform(list(train [\"Summary\"]))\n",
        "y_train = train [\"Score\"]\n",
        "x_test = vectorizer.transform(list(test[\"Summary\"]))\n",
        "y_test = test[\"Score\"]\n",
        "\n"
      ],
      "metadata": {
        "id": "TbFmAOuBKHJF"
      },
      "execution_count": 45,
      "outputs": []
    },
    {
      "cell_type": "markdown",
      "source": [
        "Training LogisticRegression model on training data:"
      ],
      "metadata": {
        "id": "JV6Gt_sib05i"
      }
    },
    {
      "cell_type": "code",
      "source": [
        "model = LogisticRegression()\n",
        "model.fit(x_train, y_train)"
      ],
      "metadata": {
        "colab": {
          "base_uri": "https://localhost:8080/"
        },
        "id": "A45Non4UK6NX",
        "outputId": "94b1e7b1-ad29-4cfb-99fe-1e071b756a56"
      },
      "execution_count": 46,
      "outputs": [
        {
          "output_type": "stream",
          "name": "stderr",
          "text": [
            "/usr/local/lib/python3.8/dist-packages/sklearn/linear_model/_logistic.py:814: ConvergenceWarning: lbfgs failed to converge (status=1):\n",
            "STOP: TOTAL NO. of ITERATIONS REACHED LIMIT.\n",
            "\n",
            "Increase the number of iterations (max_iter) or scale the data as shown in:\n",
            "    https://scikit-learn.org/stable/modules/preprocessing.html\n",
            "Please also refer to the documentation for alternative solver options:\n",
            "    https://scikit-learn.org/stable/modules/linear_model.html#logistic-regression\n",
            "  n_iter_i = _check_optimize_result(\n"
          ]
        },
        {
          "output_type": "execute_result",
          "data": {
            "text/plain": [
              "LogisticRegression()"
            ]
          },
          "metadata": {},
          "execution_count": 46
        }
      ]
    },
    {
      "cell_type": "code",
      "source": [
        "z_coef = list(zip(list(range(model.coef_.shape[1])), model.coef_[0]))\n",
        "sort = sorted(z_coef, key= lambda v: v[1])\n",
        "sort = np.array(sort)\n",
        "index = sort[:, 0].astype(int)\n",
        "\n",
        "words = np.array(vectorizer.get_feature_names())\n",
        "pos = words[index[-10:]]\n",
        "neg = words[index[:10]]\n",
        "\n",
        "print(\"Positive words: \", pos)\n",
        "print(\"Negative words: \", neg)"
      ],
      "metadata": {
        "colab": {
          "base_uri": "https://localhost:8080/"
        },
        "id": "dnGLBuyOLApw",
        "outputId": "e49f64dd-9846-4f24-b663-a48817dcf0d9"
      },
      "execution_count": 47,
      "outputs": [
        {
          "output_type": "stream",
          "name": "stdout",
          "text": [
            "Positive words:  ['smooth' 'yummy' 'amazing' 'wonderful' 'yum' 'perfect' 'awesome'\n",
            " 'delicious' 'best' 'excellent']\n",
            "Negative words:  ['yuck' 'horrible' 'awful' 'disappointed' 'terrible' 'disappointing'\n",
            " 'worst' 'hates' 'nasty' 'concept']\n"
          ]
        },
        {
          "output_type": "stream",
          "name": "stderr",
          "text": [
            "/usr/local/lib/python3.8/dist-packages/sklearn/utils/deprecation.py:87: FutureWarning: Function get_feature_names is deprecated; get_feature_names is deprecated in 1.0 and will be removed in 1.2. Please use get_feature_names_out instead.\n",
            "  warnings.warn(msg, category=FutureWarning)\n"
          ]
        }
      ]
    },
    {
      "cell_type": "markdown",
      "source": [
        "Predicting the sentiment:"
      ],
      "metadata": {
        "id": "tqhGteuxcIII"
      }
    },
    {
      "cell_type": "code",
      "source": [
        "pred = model.predict(x_test)\n",
        "print(pred)"
      ],
      "metadata": {
        "colab": {
          "base_uri": "https://localhost:8080/"
        },
        "id": "AWxeC4azLJpN",
        "outputId": "4c52f4c4-cc6d-43ce-9469-db8c3e242dea"
      },
      "execution_count": 48,
      "outputs": [
        {
          "output_type": "stream",
          "name": "stdout",
          "text": [
            "[1 1 1 ... 1 1 1]\n"
          ]
        }
      ]
    },
    {
      "cell_type": "code",
      "source": [
        "pred_2 = model.predict_proba(x_test)\n",
        "print(pred_2)"
      ],
      "metadata": {
        "colab": {
          "base_uri": "https://localhost:8080/"
        },
        "id": "X8qhB2CELMSA",
        "outputId": "83a6a337-d2b6-429d-81f8-341d821ad0ba"
      },
      "execution_count": 49,
      "outputs": [
        {
          "output_type": "stream",
          "name": "stdout",
          "text": [
            "[[0.02744083 0.97255917]\n",
            " [0.01031036 0.98968964]\n",
            " [0.137111   0.862889  ]\n",
            " ...\n",
            " [0.00294299 0.99705701]\n",
            " [0.00369233 0.99630767]\n",
            " [0.14919139 0.85080861]]\n"
          ]
        }
      ]
    },
    {
      "cell_type": "code",
      "source": [
        "print(\"Positive reviews: \", test.iloc[pred_2.T[1].argmax()][\"Summary\"])\n",
        "print(\"Negative: reviews\", test.iloc[pred_2.T[0].argmax()][\"Summary\"])"
      ],
      "metadata": {
        "colab": {
          "base_uri": "https://localhost:8080/"
        },
        "id": "ljAkcJtnLXWb",
        "outputId": "d14ba605-abf2-462a-9638-62b983b784fa"
      },
      "execution_count": 50,
      "outputs": [
        {
          "output_type": "stream",
          "name": "stdout",
          "text": [
            "Positive reviews:  Excellent KCup Coffee Perfect Brew for Me\n",
            "Negative: reviews AWFUL AWFUL AWFUL\n"
          ]
        }
      ]
    },
    {
      "cell_type": "markdown",
      "source": [
        "Accuracy of predictions:"
      ],
      "metadata": {
        "id": "UP56HKG9dFZT"
      }
    },
    {
      "cell_type": "code",
      "source": [
        "model.score(x_test, y_test)"
      ],
      "metadata": {
        "colab": {
          "base_uri": "https://localhost:8080/"
        },
        "id": "0F2j5tsZLlJm",
        "outputId": "f5bfa3b8-6489-4859-b3dd-43e2e41adf52"
      },
      "execution_count": 51,
      "outputs": [
        {
          "output_type": "execute_result",
          "data": {
            "text/plain": [
              "0.9053328561202577"
            ]
          },
          "metadata": {},
          "execution_count": 51
        }
      ]
    },
    {
      "cell_type": "markdown",
      "source": [
        "Decision Tree Classifier with criterion gini index:"
      ],
      "metadata": {
        "id": "s8roogfadVJC"
      }
    },
    {
      "cell_type": "code",
      "source": [
        "from sklearn.tree import DecisionTreeClassifier"
      ],
      "metadata": {
        "id": "sZR4RZE9SF64"
      },
      "execution_count": 52,
      "outputs": []
    },
    {
      "cell_type": "code",
      "source": [
        "# instantiate the DecisionTreeClassifier model with criterion gini index\n",
        "\n",
        "clf_gini = DecisionTreeClassifier(criterion='gini', max_depth=3, random_state=0)\n",
        "\n",
        "# fit the model\n",
        "clf_gini.fit(x_train, y_train)\n",
        "# fit the model\n",
        "clf_gini.fit(x_train, y_train)\n",
        "\n",
        "y_pred_gini = clf_gini.predict(x_test)\n",
        "\n",
        "from sklearn.metrics import accuracy_score\n",
        "\n",
        "print('Model accuracy score with criterion gini index: {0:0.4f}'. format(accuracy_score(y_test, y_pred_gini)))"
      ],
      "metadata": {
        "colab": {
          "base_uri": "https://localhost:8080/"
        },
        "id": "McG6vR3TSOvZ",
        "outputId": "3be62f7b-cf64-4e8f-cd3d-eb54d1e5c36a"
      },
      "execution_count": 60,
      "outputs": [
        {
          "output_type": "stream",
          "name": "stdout",
          "text": [
            "Model accuracy score with criterion gini index: 0.8604\n"
          ]
        }
      ]
    },
    {
      "cell_type": "code",
      "source": [
        "y_pred_train_gini = clf_gini.predict(x_train)\n",
        "\n",
        "y_pred_train_gini\n",
        "\n",
        "print('Training-set accuracy score: {0:0.4f}'. format(accuracy_score(y_train, y_pred_train_gini)))"
      ],
      "metadata": {
        "colab": {
          "base_uri": "https://localhost:8080/"
        },
        "id": "mjdZD43USqno",
        "outputId": "023a003a-c49e-44de-f18b-0cef8fb2436f"
      },
      "execution_count": 54,
      "outputs": [
        {
          "output_type": "stream",
          "name": "stdout",
          "text": [
            "Training-set accuracy score: 0.8579\n"
          ]
        }
      ]
    },
    {
      "cell_type": "code",
      "source": [
        "print('Training set score: {:.4f}'.format(clf_gini.score(x_train, y_train)))\n",
        "\n",
        "print('Test set score: {:.4f}'.format(clf_gini.score(x_test, y_test)))"
      ],
      "metadata": {
        "colab": {
          "base_uri": "https://localhost:8080/"
        },
        "id": "6Xj1ZtKdS6hM",
        "outputId": "7cd01d78-9ed6-48d8-9a6c-7a838e1c89aa"
      },
      "execution_count": 55,
      "outputs": [
        {
          "output_type": "stream",
          "name": "stdout",
          "text": [
            "Training set score: 0.8579\n",
            "Test set score: 0.8604\n"
          ]
        }
      ]
    },
    {
      "cell_type": "markdown",
      "source": [
        "Here, the training-set accuracy score is 0.8537 while the test-set accuracy to be 0.8558. These two values are quite comparable. So, there is no sign of overfitting."
      ],
      "metadata": {
        "id": "x575CDpkTD5g"
      }
    },
    {
      "cell_type": "markdown",
      "source": [
        "Visualizing decision-trees:"
      ],
      "metadata": {
        "id": "Npv-BIS9dfAf"
      }
    },
    {
      "cell_type": "code",
      "source": [
        "plt.figure(figsize=(12,8))\n",
        "\n",
        "from sklearn import tree\n",
        "\n",
        "tree.plot_tree(clf_gini.fit(x_train, y_train)) "
      ],
      "metadata": {
        "colab": {
          "base_uri": "https://localhost:8080/",
          "height": 726
        },
        "id": "bm1BZitYVF1C",
        "outputId": "ef84a49f-e8ec-4741-86ad-76937da1eaf8"
      },
      "execution_count": 56,
      "outputs": [
        {
          "output_type": "execute_result",
          "data": {
            "text/plain": [
              "[Text(0.5, 0.875, 'X[4671] <= 0.5\\ngini = 0.27\\nsamples = 22352\\nvalue = [3592, 18760]'),\n",
              " Text(0.25, 0.625, 'X[3051] <= 0.5\\ngini = 0.239\\nsamples = 21328\\nvalue = [2965, 18363]'),\n",
              " Text(0.125, 0.375, 'X[549] <= 0.5\\ngini = 0.265\\nsamples = 18439\\nvalue = [2905, 15534]'),\n",
              " Text(0.0625, 0.125, 'gini = 0.261\\nsamples = 18347\\nvalue = [2831, 15516]'),\n",
              " Text(0.1875, 0.125, 'gini = 0.315\\nsamples = 92\\nvalue = [74, 18]'),\n",
              " Text(0.375, 0.375, 'X[1008] <= 0.5\\ngini = 0.041\\nsamples = 2889\\nvalue = [60, 2829]'),\n",
              " Text(0.3125, 0.125, 'gini = 0.027\\nsamples = 2806\\nvalue = [39, 2767]'),\n",
              " Text(0.4375, 0.125, 'gini = 0.378\\nsamples = 83\\nvalue = [21, 62]'),\n",
              " Text(0.75, 0.625, 'X[1008] <= 0.5\\ngini = 0.475\\nsamples = 1024\\nvalue = [627, 397]'),\n",
              " Text(0.625, 0.375, 'X[549] <= 0.5\\ngini = 0.43\\nsamples = 855\\nvalue = [588, 267]'),\n",
              " Text(0.5625, 0.125, 'gini = 0.403\\nsamples = 810\\nvalue = [583, 227]'),\n",
              " Text(0.6875, 0.125, 'gini = 0.198\\nsamples = 45\\nvalue = [5, 40]'),\n",
              " Text(0.875, 0.375, 'X[7562] <= 0.5\\ngini = 0.355\\nsamples = 169\\nvalue = [39, 130]'),\n",
              " Text(0.8125, 0.125, 'gini = 0.34\\nsamples = 166\\nvalue = [36, 130]'),\n",
              " Text(0.9375, 0.125, 'gini = 0.0\\nsamples = 3\\nvalue = [3, 0]')]"
            ]
          },
          "metadata": {},
          "execution_count": 56
        },
        {
          "output_type": "display_data",
          "data": {
            "text/plain": [
              "<Figure size 864x576 with 1 Axes>"
            ],
            "image/png": "[encoded data removed]"
          },
          "metadata": {
            "needs_background": "light"
          }
        }
      ]
    }
  ]
}