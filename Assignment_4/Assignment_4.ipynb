{
  "cells": [
    {
      "cell_type": "markdown",
      "metadata": {
        "id": "IwBIVuq9Kobk"
      },
      "source": [
        "### Today we are going to perform the simple classification of the amazon reviews' sentiment.\n",
        "\n",
        "### Please, download the dataset amazon_baby.csv."
      ]
    },
    {
      "cell_type": "code",
      "execution_count": 2,
      "metadata": {
        "colab": {
          "base_uri": "https://localhost:8080/",
          "height": 206
        },
        "id": "r4-2BftvKobp",
        "outputId": "5ae7b936-bc6b-452f-ceed-9caebf0e2e43"
      },
      "outputs": [
        {
          "output_type": "execute_result",
          "data": {
            "text/plain": [
              "                                                name  \\\n",
              "0                           Planetwise Flannel Wipes   \n",
              "1                              Planetwise Wipe Pouch   \n",
              "2                Annas Dream Full Quilt with 2 Shams   \n",
              "3  Stop Pacifier Sucking without tears with Thumb...   \n",
              "4  Stop Pacifier Sucking without tears with Thumb...   \n",
              "\n",
              "                                              review  rating  \n",
              "0  These flannel wipes are OK, but in my opinion ...       3  \n",
              "1  it came early and was not disappointed. i love...       5  \n",
              "2  Very soft and comfortable and warmer than it l...       5  \n",
              "3  This is a product well worth the purchase.  I ...       5  \n",
              "4  All of my kids have cried non-stop when I trie...       5  "
            ],
            "text/html": [
              "\n",
              "  <div id=\"df-10e43fc7-7f89-4035-97d6-29fc8b8b0c80\">\n",
              "    <div class=\"colab-df-container\">\n",
              "      <div>\n",
              "<style scoped>\n",
              "    .dataframe tbody tr th:only-of-type {\n",
              "        vertical-align: middle;\n",
              "    }\n",
              "\n",
              "    .dataframe tbody tr th {\n",
              "        vertical-align: top;\n",
              "    }\n",
              "\n",
              "    .dataframe thead th {\n",
              "        text-align: right;\n",
              "    }\n",
              "</style>\n",
              "<table border=\"1\" class=\"dataframe\">\n",
              "  <thead>\n",
              "    <tr style=\"text-align: right;\">\n",
              "      <th></th>\n",
              "      <th>name</th>\n",
              "      <th>review</th>\n",
              "      <th>rating</th>\n",
              "    </tr>\n",
              "  </thead>\n",
              "  <tbody>\n",
              "    <tr>\n",
              "      <th>0</th>\n",
              "      <td>Planetwise Flannel Wipes</td>\n",
              "      <td>These flannel wipes are OK, but in my opinion ...</td>\n",
              "      <td>3</td>\n",
              "    </tr>\n",
              "    <tr>\n",
              "      <th>1</th>\n",
              "      <td>Planetwise Wipe Pouch</td>\n",
              "      <td>it came early and was not disappointed. i love...</td>\n",
              "      <td>5</td>\n",
              "    </tr>\n",
              "    <tr>\n",
              "      <th>2</th>\n",
              "      <td>Annas Dream Full Quilt with 2 Shams</td>\n",
              "      <td>Very soft and comfortable and warmer than it l...</td>\n",
              "      <td>5</td>\n",
              "    </tr>\n",
              "    <tr>\n",
              "      <th>3</th>\n",
              "      <td>Stop Pacifier Sucking without tears with Thumb...</td>\n",
              "      <td>This is a product well worth the purchase.  I ...</td>\n",
              "      <td>5</td>\n",
              "    </tr>\n",
              "    <tr>\n",
              "      <th>4</th>\n",
              "      <td>Stop Pacifier Sucking without tears with Thumb...</td>\n",
              "      <td>All of my kids have cried non-stop when I trie...</td>\n",
              "      <td>5</td>\n",
              "    </tr>\n",
              "  </tbody>\n",
              "</table>\n",
              "</div>\n",
              "      <button class=\"colab-df-convert\" onclick=\"convertToInteractive('df-10e43fc7-7f89-4035-97d6-29fc8b8b0c80')\"\n",
              "              title=\"Convert this dataframe to an interactive table.\"\n",
              "              style=\"display:none;\">\n",
              "        \n",
              "  <svg xmlns=\"http://www.w3.org/2000/svg\" height=\"24px\"viewBox=\"0 0 24 24\"\n",
              "       width=\"24px\">\n",
              "    <path d=\"M0 0h24v24H0V0z\" fill=\"none\"/>\n",
              "    <path d=\"M18.56 5.44l.94 2.06.94-2.06 2.06-.94-2.06-.94-.94-2.06-.94 2.06-2.06.94zm-11 1L8.5 8.5l.94-2.06 2.06-.94-2.06-.94L8.5 2.5l-.94 2.06-2.06.94zm10 10l.94 2.06.94-2.06 2.06-.94-2.06-.94-.94-2.06-.94 2.06-2.06.94z\"/><path d=\"M17.41 7.96l-1.37-1.37c-.4-.4-.92-.59-1.43-.59-.52 0-1.04.2-1.43.59L10.3 9.45l-7.72 7.72c-.78.78-.78 2.05 0 2.83L4 21.41c.39.39.9.59 1.41.59.51 0 1.02-.2 1.41-.59l7.78-7.78 2.81-2.81c.8-.78.8-2.07 0-2.86zM5.41 20L4 18.59l7.72-7.72 1.47 1.35L5.41 20z\"/>\n",
              "  </svg>\n",
              "      </button>\n",
              "      \n",
              "  <style>\n",
              "    .colab-df-container {\n",
              "      display:flex;\n",
              "      flex-wrap:wrap;\n",
              "      gap: 12px;\n",
              "    }\n",
              "\n",
              "    .colab-df-convert {\n",
              "      background-color: #E8F0FE;\n",
              "      border: none;\n",
              "      border-radius: 50%;\n",
              "      cursor: pointer;\n",
              "      display: none;\n",
              "      fill: #1967D2;\n",
              "      height: 32px;\n",
              "      padding: 0 0 0 0;\n",
              "      width: 32px;\n",
              "    }\n",
              "\n",
              "    .colab-df-convert:hover {\n",
              "      background-color: #E2EBFA;\n",
              "      box-shadow: 0px 1px 2px rgba(60, 64, 67, 0.3), 0px 1px 3px 1px rgba(60, 64, 67, 0.15);\n",
              "      fill: #174EA6;\n",
              "    }\n",
              "\n",
              "    [theme=dark] .colab-df-convert {\n",
              "      background-color: #3B4455;\n",
              "      fill: #D2E3FC;\n",
              "    }\n",
              "\n",
              "    [theme=dark] .colab-df-convert:hover {\n",
              "      background-color: #434B5C;\n",
              "      box-shadow: 0px 1px 3px 1px rgba(0, 0, 0, 0.15);\n",
              "      filter: drop-shadow(0px 1px 2px rgba(0, 0, 0, 0.3));\n",
              "      fill: #FFFFFF;\n",
              "    }\n",
              "  </style>\n",
              "\n",
              "      <script>\n",
              "        const buttonEl =\n",
              "          document.querySelector('#df-10e43fc7-7f89-4035-97d6-29fc8b8b0c80 button.colab-df-convert');\n",
              "        buttonEl.style.display =\n",
              "          google.colab.kernel.accessAllowed ? 'block' : 'none';\n",
              "\n",
              "        async function convertToInteractive(key) {\n",
              "          const element = document.querySelector('#df-10e43fc7-7f89-4035-97d6-29fc8b8b0c80');\n",
              "          const dataTable =\n",
              "            await google.colab.kernel.invokeFunction('convertToInteractive',\n",
              "                                                     [key], {});\n",
              "          if (!dataTable) return;\n",
              "\n",
              "          const docLinkHtml = 'Like what you see? Visit the ' +\n",
              "            '<a target=\"_blank\" href=https://colab.research.google.com/notebooks/data_table.ipynb>data table notebook</a>'\n",
              "            + ' to learn more about interactive tables.';\n",
              "          element.innerHTML = '';\n",
              "          dataTable['output_type'] = 'display_data';\n",
              "          await google.colab.output.renderOutput(dataTable, element);\n",
              "          const docLink = document.createElement('div');\n",
              "          docLink.innerHTML = docLinkHtml;\n",
              "          element.appendChild(docLink);\n",
              "        }\n",
              "      </script>\n",
              "    </div>\n",
              "  </div>\n",
              "  "
            ]
          },
          "metadata": {},
          "execution_count": 2
        }
      ],
      "source": [
        "import pandas as pd\n",
        "import numpy as np\n",
        "import matplotlib.pyplot as plt\n",
        "import string\n",
        "from sklearn.linear_model import LogisticRegression\n",
        "\n",
        "def remove_punctuation(text):\n",
        "    import string\n",
        "    translator = str.maketrans('', '', string.punctuation)\n",
        "    return text.translate(translator)\n",
        "\n",
        "baby_df = pd.read_csv('amazon_baby.csv')\n",
        "baby_df.head()"
      ]
    },
    {
      "cell_type": "markdown",
      "metadata": {
        "id": "5nUFiUzzKobr"
      },
      "source": [
        "## Exercise 1 (data preparation)\n",
        "a) Remove punctuation from reviews using the given function.   \n",
        "b) Replace all missing (nan) revies with empty \"\" string.  \n",
        "c) Drop all the entries with rating = 3, as they have neutral sentiment.   \n",
        "d) Set all positive ($\\geq$4) ratings to 1 and negative($\\leq$2) to -1."
      ]
    },
    {
      "cell_type": "code",
      "execution_count": 3,
      "metadata": {
        "colab": {
          "base_uri": "https://localhost:8080/"
        },
        "id": "QjfDSNIWKobs",
        "outputId": "09ae9e23-8be4-4594-9a28-06c840871d37"
      },
      "outputs": [
        {
          "output_type": "execute_result",
          "data": {
            "text/plain": [
              "True"
            ]
          },
          "metadata": {},
          "execution_count": 3
        }
      ],
      "source": [
        "#a)\n",
        "baby_df['review']=baby_df['review'].astype(str) \n",
        "baby_df[\"review\"] = baby_df[\"review\"].apply(remove_punctuation)\n",
        "\n",
        "#short test: \n",
        "baby_df[\"review\"][4] == 'All of my kids have cried nonstop when I tried to ween them off their pacifier until I found Thumbuddy To Loves Binky Fairy Puppet  It is an easy way to work with your kids to allow them to understand where their pacifier is going and help them part from itThis is a must buy book and a great gift for expecting parents  You will save them soo many headachesThanks for this book  You all rock'\n",
        "remove_punctuation(baby_df[\"review\"][4]) == 'All of my kids have cried nonstop when I tried to ween them off their pacifier until I found Thumbuddy To Loves Binky Fairy Puppet  It is an easy way to work with your kids to allow them to understand where their pacifier is going and help them part from itThis is a must buy book and a great gift for expecting parents  You will save them soo many headachesThanks for this book  You all rock'"
      ]
    },
    {
      "cell_type": "code",
      "execution_count": 4,
      "metadata": {
        "colab": {
          "base_uri": "https://localhost:8080/"
        },
        "id": "nJyWkbxNKobt",
        "outputId": "be322067-19a9-4743-91da-7093611be060"
      },
      "outputs": [
        {
          "output_type": "execute_result",
          "data": {
            "text/plain": [
              "True"
            ]
          },
          "metadata": {},
          "execution_count": 4
        }
      ],
      "source": [
        "#b)\n",
        "baby_df[\"review\"].replace(np.nan, \"\", inplace=True)\n",
        "\n",
        "#short test:\n",
        "baby_df[\"review\"][38] == baby_df[\"review\"][38]"
      ]
    },
    {
      "cell_type": "code",
      "execution_count": 5,
      "metadata": {
        "colab": {
          "base_uri": "https://localhost:8080/"
        },
        "id": "ZLSVScyjKobt",
        "outputId": "90a35dd0-ba2d-4cb1-b907-af9231238ae8"
      },
      "outputs": [
        {
          "output_type": "execute_result",
          "data": {
            "text/plain": [
              "0"
            ]
          },
          "metadata": {},
          "execution_count": 5
        }
      ],
      "source": [
        "#c)\n",
        "baby_df = baby_df[baby_df.rating != 3]\n",
        "#short test:\n",
        "sum(baby_df[\"rating\"] == 3)"
      ]
    },
    {
      "cell_type": "code",
      "execution_count": 6,
      "metadata": {
        "colab": {
          "base_uri": "https://localhost:8080/"
        },
        "id": "k07p-FSsKobu",
        "outputId": "2e6c59f9-481c-4956-819d-9b50bfa31831"
      },
      "outputs": [
        {
          "output_type": "execute_result",
          "data": {
            "text/plain": [
              "0"
            ]
          },
          "metadata": {},
          "execution_count": 6
        }
      ],
      "source": [
        "#d)\n",
        "\n",
        "baby_df[\"rating\"].replace(2, -1, inplace=True)\n",
        "baby_df[\"rating\"].replace(1, -1, inplace=True)\n",
        "baby_df[\"rating\"].replace(4, 1, inplace=True)\n",
        "baby_df[\"rating\"].replace(5, 1, inplace=True)\n",
        "#short test:\n",
        "sum(baby_df[\"rating\"]**2 != 1)"
      ]
    },
    {
      "cell_type": "markdown",
      "metadata": {
        "id": "ITumupK9Kobu"
      },
      "source": [
        "## CountVectorizer\n",
        "In order to analyze strings, we need to assign them numerical values. We will use one of the simplest string representation, which transforms strings into the $n$ dimensional vectors. The number of dimensions will be the size of our dictionary, and then the values of the vector will represent the number of appereances of the given word in the sentence."
      ]
    },
    {
      "cell_type": "code",
      "execution_count": 7,
      "metadata": {
        "colab": {
          "base_uri": "https://localhost:8080/"
        },
        "id": "3St7VaIaKobv",
        "outputId": "b8824a33-bc11-4d45-928f-35b972e78ac8"
      },
      "outputs": [
        {
          "output_type": "stream",
          "name": "stdout",
          "text": [
            "['adore', 'and', 'apples', 'bananas', 'dislike', 'hate', 'like', 'oranges', 'they', 'we']\n",
            "[[0 0 1 0 0 0 1 0 0 1]\n",
            " [0 0 0 0 0 1 0 1 0 1]\n",
            " [1 0 0 1 0 0 0 0 0 0]\n",
            " [0 1 1 0 0 0 2 1 0 1]\n",
            " [0 0 0 1 1 0 0 0 1 0]]\n"
          ]
        },
        {
          "output_type": "stream",
          "name": "stderr",
          "text": [
            "/usr/local/lib/python3.8/dist-packages/sklearn/utils/deprecation.py:87: FutureWarning: Function get_feature_names is deprecated; get_feature_names is deprecated in 1.0 and will be removed in 1.2. Please use get_feature_names_out instead.\n",
            "  warnings.warn(msg, category=FutureWarning)\n"
          ]
        }
      ],
      "source": [
        "from sklearn.feature_extraction.text import CountVectorizer\n",
        "\n",
        "vectorizer = CountVectorizer()\n",
        "reviews_train_example = [\"We like apples\",\n",
        "                   \"We hate oranges\",\n",
        "                   \"I adore bananas\",\n",
        "                   \"We like like apples and oranges\",\n",
        "                   \"They dislike bananas\"]\n",
        "\n",
        "X_train_example = vectorizer.fit_transform(reviews_train_example)\n",
        "\n",
        "print(vectorizer.get_feature_names())\n",
        "print(X_train_example.todense())\n",
        "\n"
      ]
    },
    {
      "cell_type": "code",
      "execution_count": 8,
      "metadata": {
        "colab": {
          "base_uri": "https://localhost:8080/"
        },
        "id": "739lMR8fKobw",
        "outputId": "621ec973-66d5-4d10-ec49-ef32515499db"
      },
      "outputs": [
        {
          "output_type": "stream",
          "name": "stdout",
          "text": [
            "[[0 0 0 1 0 0 1 0 1 0]\n",
            " [0 1 1 1 0 1 0 1 0 1]\n",
            " [0 0 0 1 0 0 0 0 0 1]]\n"
          ]
        }
      ],
      "source": [
        "reviews_test_example = [\"They like bananas\",\n",
        "                   \"We hate oranges bananas and apples\",\n",
        "                   \"We love bananas\"] #New word!\n",
        "\n",
        "X_test_example = vectorizer.transform(reviews_test_example)\n",
        "\n",
        "print(X_test_example.todense())"
      ]
    },
    {
      "cell_type": "markdown",
      "metadata": {
        "id": "f35mOReZKobw"
      },
      "source": [
        "We should acknowledge few facts. Firstly, CountVectorizer does not take order into account. Secondly, it ignores one-letter words (this can be changed during initialization). Finally, for test values, CountVectorizer ignores words which are not in it's dictionary."
      ]
    },
    {
      "cell_type": "markdown",
      "metadata": {
        "id": "O87Kk546Kobx"
      },
      "source": [
        "## Exercise 2 \n",
        "a) Split dataset into training and test sets.     \n",
        "b) Transform reviews into vectors using CountVectorizer. "
      ]
    },
    {
      "cell_type": "code",
      "execution_count": 9,
      "metadata": {
        "collapsed": true,
        "id": "9ap-I03rKobx"
      },
      "outputs": [],
      "source": [
        "#a)\n",
        "from sklearn.model_selection import train_test_split\n",
        "\n",
        "train , test = train_test_split(baby_df, train_size=0.8, test_size=0.2)\n"
      ]
    },
    {
      "cell_type": "code",
      "execution_count": 10,
      "metadata": {
        "collapsed": true,
        "id": "JRe5GLgvKobx"
      },
      "outputs": [],
      "source": [
        "#b)\n",
        "vectorizer = CountVectorizer()\n",
        "\n",
        "x_train = vectorizer.fit_transform(list(train [\"review\"]))\n",
        "y_train = train [\"rating\"]\n",
        "x_test = vectorizer.transform(list(test[\"review\"]))\n",
        "y_test = test[\"rating\"]\n"
      ]
    },
    {
      "cell_type": "markdown",
      "metadata": {
        "id": "JMbmZJZZKoby"
      },
      "source": [
        "## Exercise 3 \n",
        "a) Train LogisticRegression model on training data (reviews processed with CountVectorizer, ratings as they were).   \n",
        "b) Print 10 most positive and 10 most negative words."
      ]
    },
    {
      "cell_type": "code",
      "execution_count": 11,
      "metadata": {
        "collapsed": true,
        "colab": {
          "base_uri": "https://localhost:8080/"
        },
        "id": "6QZPb7f2Koby",
        "outputId": "c27c5271-102e-427f-d19c-0a8d7c60fab6"
      },
      "outputs": [
        {
          "output_type": "stream",
          "name": "stderr",
          "text": [
            "/usr/local/lib/python3.8/dist-packages/sklearn/linear_model/_logistic.py:814: ConvergenceWarning: lbfgs failed to converge (status=1):\n",
            "STOP: TOTAL NO. of ITERATIONS REACHED LIMIT.\n",
            "\n",
            "Increase the number of iterations (max_iter) or scale the data as shown in:\n",
            "    https://scikit-learn.org/stable/modules/preprocessing.html\n",
            "Please also refer to the documentation for alternative solver options:\n",
            "    https://scikit-learn.org/stable/modules/linear_model.html#logistic-regression\n",
            "  n_iter_i = _check_optimize_result(\n"
          ]
        },
        {
          "output_type": "execute_result",
          "data": {
            "text/plain": [
              "LogisticRegression()"
            ]
          },
          "metadata": {},
          "execution_count": 11
        }
      ],
      "source": [
        "#a)\n",
        "\n",
        "model = LogisticRegression()\n",
        "model.fit(x_train, y_train)"
      ]
    },
    {
      "cell_type": "code",
      "execution_count": 12,
      "metadata": {
        "collapsed": true,
        "colab": {
          "base_uri": "https://localhost:8080/"
        },
        "id": "j_cY0U7YKoby",
        "outputId": "38149ac1-4262-4f89-94c8-533ff53c604a"
      },
      "outputs": [
        {
          "output_type": "stream",
          "name": "stderr",
          "text": [
            "/usr/local/lib/python3.8/dist-packages/sklearn/utils/deprecation.py:87: FutureWarning: Function get_feature_names is deprecated; get_feature_names is deprecated in 1.0 and will be removed in 1.2. Please use get_feature_names_out instead.\n",
            "  warnings.warn(msg, category=FutureWarning)\n"
          ]
        },
        {
          "output_type": "stream",
          "name": "stdout",
          "text": [
            "Positive words:  ['satisfied' 'negative' 'glad' 'complaint' 'perfect' 'amazing' 'worry'\n",
            " 'pleased' 'awesome' 'excellent']\n",
            "Negative words:  ['worst' 'disappointing' 'concept' 'poorly' 'useless' 'returning' 'poor'\n",
            " 'disappointed' 'horrible' 'terrible']\n"
          ]
        }
      ],
      "source": [
        "#b)\n",
        "z_coef = list(zip(list(range(model.coef_.shape[1])), model.coef_[0]))\n",
        "sort = sorted(z_coef, key= lambda v: v[1])\n",
        "sort = np.array(sort)\n",
        "index = sort[:, 0].astype(int)\n",
        "\n",
        "words = np.array(vectorizer.get_feature_names())\n",
        "pos = words[index[-10:]]\n",
        "neg = words[index[:10]]\n",
        "\n",
        "print(\"Positive words: \", pos)\n",
        "print(\"Negative words: \", neg)\n",
        "#hint: model.coef_, vectorizer.get_feature_names()"
      ]
    },
    {
      "cell_type": "markdown",
      "metadata": {
        "id": "Ik5phhg0Koby"
      },
      "source": [
        "## Exercise 4 \n",
        "a) Predict the sentiment of test data reviews.   \n",
        "b) Predict the sentiment of test data reviews in terms of probability.   \n",
        "c) Find five most positive and most negative reviews.   \n",
        "d) Calculate the accuracy of predictions."
      ]
    },
    {
      "cell_type": "code",
      "execution_count": 13,
      "metadata": {
        "collapsed": true,
        "colab": {
          "base_uri": "https://localhost:8080/"
        },
        "id": "U2quk4qVKobz",
        "outputId": "ec93f26f-52b3-4a96-8dc5-210e01400952"
      },
      "outputs": [
        {
          "output_type": "stream",
          "name": "stdout",
          "text": [
            "[ 1 -1  1 ...  1  1  1]\n"
          ]
        }
      ],
      "source": [
        "#a)\n",
        "pred = model.predict(x_test)\n",
        "print(pred)"
      ]
    },
    {
      "cell_type": "code",
      "execution_count": 14,
      "metadata": {
        "collapsed": true,
        "colab": {
          "base_uri": "https://localhost:8080/"
        },
        "id": "cz6RXk9sKobz",
        "outputId": "d2c2ebfb-0e79-4b64-b260-f5d77afd8cf0"
      },
      "outputs": [
        {
          "output_type": "stream",
          "name": "stdout",
          "text": [
            "[[1.18958820e-03 9.98810412e-01]\n",
            " [8.40721938e-01 1.59278062e-01]\n",
            " [1.60387935e-01 8.39612065e-01]\n",
            " ...\n",
            " [1.13008090e-01 8.86991910e-01]\n",
            " [2.32190968e-05 9.99976781e-01]\n",
            " [8.21990944e-03 9.91780091e-01]]\n"
          ]
        }
      ],
      "source": [
        "#b)\n",
        "pred_2 = model.predict_proba(x_test)\n",
        "print(pred_2)\n",
        "#hint: model.predict_proba()"
      ]
    },
    {
      "cell_type": "code",
      "execution_count": 15,
      "metadata": {
        "colab": {
          "base_uri": "https://localhost:8080/"
        },
        "id": "g1IOslZfKobz",
        "outputId": "505451bb-f0f3-4554-dcd3-0c170c1a990d"
      },
      "outputs": [
        {
          "output_type": "stream",
          "name": "stdout",
          "text": [
            "Positive reviews:  These plates are amazing  First they are made from Potatoes  Almost all platescupsutensils found on store shelves today are made of plastic  Dont get me wrong I do appreciate plastic and I use it on a daily basis  However it is amazing that there is a way to create childrens products from a biodegradable safe efficient and all natural source  It makes me feel better knowing my kids are eating off a plate that is not leaching any chemicals into their food  I also love that this product will not just sit in the landfill for hundreds of years but will biodegrade faster than other plastic plates So these products by Spuds are not only good for my kidsbut good for the environmentI LOVE thatNow onto the plate itself  I love the design  It is perfect for my one year old who is starting to eat a wider variety of solid foods  Each section is just the right size to put a little bit of food into  A diced strawberry in one section some applesauce in another a few puffs in another a chopped up nugget in another and some yogurt drops in the last section  However each section is very small  While this plate is perfect for an infant or younger toddler it is not the ideal plate for an older toddler or child  It simply does not hold a lot of food I often have to refill some of the sections because even he can eat more than this plate will hold  However I think the size is perfect for younger kids who just dont need a huge plate or perhaps for an older child who just wants a snack I love that there are five sections to put different food in  My one year old loves choosing which food to eat firstAnother nice feature of this plate is that the sides rest flat against the table so it is not very easy for a child to pick it up and throw it  However it is not impossible and my son is very capable of finding a way to lift it up  However it is a nice design to help prevent little fingers from grabbing the plate and throwing it or dumping it on their headSomething that does not bother me but might bother some people is that the plate stains if certain foods are left on the plate for a while  Due to the nature of the product I believe this plate is made from a slightly porous and softer material that traditional plastic Because of this some food might leave small stains on the plate  I am guessing that if the plate is rinsed after each meal this will not be an issue  I left some pasta on the plate overnight and even after washing it in the dishwasher some red stains remained  They do seem to be fading overtime after each time it is washed in the dish washerThe plate seems to be very durable and looks as good as new even after almost a month of use  I wash mine in the dishwasher after each use and all three of my plates are holding up well  I wasnt sure how it would do since it is made out of a potato product but it looks great has little to no warping or discoloration and it still an awesome productOverall I love these plates and the whole Spud product line  I love the material and I feel safe using it  They are absolutely perfect for my one year old and I use them almost everyday\n",
            "Negative: reviews I have NEVER written a review before for anything DO NOT BUY THIS PRODUCTThis is a very expensive monitor and the features are awesome It is really a fantastic monitor truly The clarity is great the VOX feature is awesome the intercom is fabulous for older kids although there is a delay on it so after you speak you cannot hear the response as it wont pick up sounds for several seconds after you let go of the talk button And I REALLY hate that you cannot mute the volume The lullaby feature is nice but I do NOT want to sit there and listen to the lullaby myself But you must No muteBUTafter only 10 months of use our camera just stopped working I unplugged the camera to move it to a safer location as our son had become mobile and I was concerned he could reach the cord and pull it down onto himself When I plugged the camera back in nothing The green power light would not come onI naturally thought it was the outlet Checked the fuse box etc But it was not the outlet No other outlet in the house worked despite other appliances working just fine so clearly it was not a problem on our endWe then attempted three different sets of new batteries That also did not work So it is not a battery problemWhen plugged in the camera briefly indicated that it was receiving power so it was getting power just not turning onWhat a pain in the butt When I bought this system it had fabulous reviews What a shock it was to come on here and see how the reviews have dramatically tanked since we decided on this systemI called but could not get through I emailed and emailed and emailed again but two weeks have gone by and there has been no response I have sent a message through their contact us form on their website but have received no response by the time these guys get back to us our warranty will have expired I think well be out the 230 we spent on this machine And all this time weve been without a monitor for our little onewho happens to have a bedroom on a different level of our home It has been a total nightmareAs of today I still have not heard back from Levana and despite their bogus claim that you can call or reach them through live chat I have been unable to reach them despite multiple attemptsJust now I tried to plug my camera in and it lit up and started working I have NO idea why and Im sure it wont last I can only hope that Ill get at least another 6 months1 year out of the camera and I will NEVER buy another Levana product EVER againI will also be filing a complaint with the BBB and I recommend all the negative reviewers out there that have received horrible customer service do the same Not all families have hundreds of dollars to throw down the drain on a fancy monitor just to replace it again before one year has passed So much for their wonderful lifetime supportSHAME on you Levana Stop pedaling your horrible made in china GARBAGEIT IS A DANGEROUS MONITORWhen youre expecting something to let you know your child is safe and it fails on you it can really lead to suffering for your child as well as injury or even death What of the battery life It is NOT 45 hours as they claim I brought my monitor upstairs with me to take a short nap and I did not expect to need the charger as the monitor was completely charged I fell asleep and since my then fourmonthold was still not a very good night sleeper I was exhausted and was sleeping very deeply The monitors battery failed and the machine shut off at some point because I woke up about 45 minutes later to the very faint sound of my infant son screaming his head off Our bedrooms are on different levels of the house and I was COUNTING on this monitor to let me know if my son woke upMy poor infant son had rolled in such a way as to get his fat little thigh wedged between the bars in his crib with the leg hanging out He had twisted and he couldnt get himself back through This caused him to have his face smashed pretty hard into the mattress surface Also by the time I got to him his foot was absolutely purple I had a very difficult time removing the swollen leg from the crib bars and thank GOD my son did not exhaust himself and suffocate in the crib mattress while I was sleeping and relying on my monitor to warn me if he needed me for anythingMy poor son had a purple bruise on his nose because of being smashed into the mattress and his leg had such an awful and painful looking purple indented ring around it for days Thank God his foot and lower leg did not suffer any permanent vascular damage from lack of oxygenated blood Who knows how long my little sweetie was stuck in there before I woke up That is an awful thing to happen to a child and his parents but with all the concerns about crib bumpers I hadnt installed themI installed mesh bumpers after that but I have never again fallen asleep without the monitor attached to the pluggedin charging baseSave yourself the worry hassle and headache Go with a triedandtrue brand that truly boasts of fabulous customer service\n"
          ]
        }
      ],
      "source": [
        "#c) \n",
        "print(\"Positive reviews: \", test.iloc[pred_2.T[1].argmax()][\"review\"])\n",
        "print(\"Negative: reviews\", test.iloc[pred_2.T[0].argmax()][\"review\"])\n",
        "#hint: use the results of b)"
      ]
    },
    {
      "cell_type": "code",
      "execution_count": 16,
      "metadata": {
        "collapsed": true,
        "colab": {
          "base_uri": "https://localhost:8080/"
        },
        "id": "CB62c3QSKobz",
        "outputId": "dc4266e7-78ff-4d9e-d78b-f518e1ff98bc"
      },
      "outputs": [
        {
          "output_type": "execute_result",
          "data": {
            "text/plain": [
              "0.9318461215555756"
            ]
          },
          "metadata": {},
          "execution_count": 16
        }
      ],
      "source": [
        "#d) \n",
        "model.score(x_test, y_test)\n"
      ]
    },
    {
      "cell_type": "markdown",
      "metadata": {
        "id": "agg0PEcAKob0"
      },
      "source": [
        "## Exercise 5\n",
        "In this exercise we will limit the dictionary of CountVectorizer to the set of significant words, defined below.\n",
        "\n",
        "\n",
        "a) Redo exercises 2-5 using limited dictionary.   \n",
        "b) Check the impact of all the words from the dictionary.   \n",
        "c) Compare accuracy of predictions and the time of evaluation."
      ]
    },
    {
      "cell_type": "code",
      "execution_count": 17,
      "metadata": {
        "collapsed": true,
        "id": "C_WkyZKVKob0"
      },
      "outputs": [],
      "source": [
        "significant_words = ['love','great','easy','old','little','perfect','loves','well','able','car','broke','less','even','waste','disappointed','work','product','money','would','return']"
      ]
    },
    {
      "cell_type": "code",
      "execution_count": 19,
      "metadata": {
        "collapsed": true,
        "colab": {
          "base_uri": "https://localhost:8080/"
        },
        "id": "iKA88UWPKob0",
        "outputId": "88943ec2-8e15-4a0b-f18d-f003a7466fa0"
      },
      "outputs": [
        {
          "output_type": "stream",
          "name": "stdout",
          "text": [
            "Positive reviews:  I love this double stroller for many reasons My 9 month olds are very squirmy but I couldnt stand the SUV double that we owned before I love the swiftAt BRU we test drove a few strollers after returning our borowed DuoGlider to the original owner more of a sigh of relief than a sigh of angerWell we tried the DuoRider This stroller was completely inferior to any double I had ever laid eyes on The straps were flimsy lapbelts there was minimal storage only ONE canopy to cover both children plus I cant imagine an average 3 year old fitting in it it was too large yet the seats were too cramped The wheels were flimsy and squeaky it was just horribleI saw the double Jeep stroller it was definatly an umbrella stroller It was just TOO umbrella like and it was too unsafe for the twinsSo we laid eyes on the Swift It was the double umbrella with a few bonuses that we were looking forIts sturdy that means the wheels wont spontaniously fall off like on the DuoGlider I loved how easy it was to steer and manuver and that it was very easy to turn as well I absolutly LOVED that it could fold easily but DEFINATLY not with one hand It folds pretty small and can fit well into the trunk of my minivan I also love that the stroller is lightweight at 28 lbs thats not too heavy but not really too lightweight either Theres 5 point harnesses for them this was a big deciding factor on the swift and they are well padded and secure The seats reqline another feature that we needed and they reqline FULLY and sit up FULLY The seats are easy to take off and wash and equally easy to wipe up They are comfortable and definatly not the kind of material that makes children swet 5 liters the handles are high enough for my husband but also easy for me to hold as well I love that they can hold bags on them also this is ideal since the storage is minimal We can fit a thin diaperbag in one with diapers wipes powders bottles onesies and two thin blankets I also found that in the other basket I can fit children jackets and a small purse for me I purchased an add on stroller accesory kit which came with a drink holder for us a snack cup for the kids and a compartment for keys and a cellphone Thats the only thing that we dont like about the stroller is the lack of cupholders and accessory holders for everyone I love this stroller since it fits through most doorways and since its great outdoors and indoors Great at parks airports malls zoos aquariums beaches up hills and off roadI think we will have this stroller for atleast a few more years its sturdy reliable and much simpler than the extravegant and inferior graco models yet perfect for babies as well as toddlers\n",
            "Negative: reviews  I was excited to give these instruments to my 4 year old for her birthday because they are cute painted instruments that look even better in person than online I assumed that since the set was wooden and 1015 more expensive than other similar sets it would be durable My daughter opened the box and the drum broke within two minutes in the middle of her family birthday party She was heartbroken  she was just patting it with her hand when it broke but she thought she did something wrong I dont even know the return policy  I am so busy that is the whole reason I did birthday shopping in the middle of the night online  dealing with boxing it up and taking it to the post office is last on my priority list so it is sitting in my entryway completely useless I was disappointed that such a cute set that my daughter was so excited to receive ended up being such a waste\n"
          ]
        },
        {
          "output_type": "execute_result",
          "data": {
            "text/plain": [
              "0.8684897004587568"
            ]
          },
          "metadata": {},
          "execution_count": 19
        }
      ],
      "source": [
        "#a)\n",
        "vectorizer_2 = CountVectorizer(vocabulary=significant_words)\n",
        "\n",
        "x_train_2 = vectorizer_2.fit_transform(list(train [\"review\"]))\n",
        "y_train_2 = train[\"rating\"]\n",
        "x_test_2 = vectorizer_2.transform(list(test[\"review\"]))\n",
        "y_test_2 = test[\"rating\"]\n",
        "\n",
        "model_2 = LogisticRegression()\n",
        "model_2.fit(x_train_2, y_train_2)\n",
        "predict_2 = model_2.predict_proba(x_test_2)\n",
        "print(\"Positive reviews: \", test.iloc[predict_2.T[1].argmax()][\"review\"])\n",
        "print(\"Negative: reviews \", test.iloc[predict_2.T[0].argmax()][\"review\"])\n",
        "model_2.score(x_test_2, y_test_2)"
      ]
    },
    {
      "cell_type": "code",
      "execution_count": 20,
      "metadata": {
        "collapsed": true,
        "colab": {
          "base_uri": "https://localhost:8080/"
        },
        "id": "qCbd2OdzKob0",
        "outputId": "250c2e67-eb43-4e06-8478-5b70d972ecaf"
      },
      "outputs": [
        {
          "output_type": "stream",
          "name": "stdout",
          "text": [
            "love: 1.3383847837945457\n",
            "great: 0.93967223222708\n",
            "easy: 1.152369990956628\n",
            "old: 0.08785103331963807\n",
            "little: 0.5078672782473773\n",
            "perfect: 1.4903062859034046\n",
            "loves: 1.7207345341004323\n",
            "well: 0.5076393681322159\n",
            "able: 0.20624679758998193\n",
            "car: 0.07073736456151218\n",
            "broke: -1.6436308138223066\n",
            "less: -0.21066553788812137\n",
            "even: -0.5110095270630157\n",
            "waste: -2.008386237293198\n",
            "disappointed: -2.428857415625606\n",
            "work: -0.6244125969578616\n",
            "product: -0.31729594412940504\n",
            "money: -0.8991410073578493\n",
            "would: -0.3400281012816716\n",
            "return: -2.0650849635125548\n"
          ]
        }
      ],
      "source": [
        "#b)\n",
        "for word, coef in zip(vectorizer_2.get_feature_names_out(), model_2.coef_[0]):\n",
        "    print(f\"{word}: {coef}\")\n"
      ]
    },
    {
      "cell_type": "code",
      "execution_count": 21,
      "metadata": {
        "colab": {
          "base_uri": "https://localhost:8080/"
        },
        "id": "4U54VVLrKob0",
        "outputId": "5924a03c-2ce2-4b45-e2d2-ae2a35818c62"
      },
      "outputs": [
        {
          "output_type": "stream",
          "name": "stdout",
          "text": [
            "model_2 score: 0.8684897004587568\n",
            "model score: 0.9318461215555756\n",
            "CPU times: user 3 µs, sys: 1 µs, total: 4 µs\n",
            "Wall time: 8.58 µs\n",
            "CPU times: user 3 µs, sys: 0 ns, total: 3 µs\n",
            "Wall time: 7.15 µs\n"
          ]
        }
      ],
      "source": [
        "#c)\n",
        "import sys, time, timeit\n",
        "\n",
        "print(\"model_2 score: {0}\" .format(model_2.score(x_test_2, y_test_2)))\n",
        "print(\"model score: {0}\" .format(model.score(x_test, y_test)))\n",
        "\n",
        "model_2.predict(x_test_2)\n",
        "%time\n",
        "\n",
        "\n",
        "model.predict(x_test)\n",
        "%time\n",
        "\n",
        "#hint: %time, %timeit"
      ]
    }
  ],
  "metadata": {
    "anaconda-cloud": {},
    "kernelspec": {
      "display_name": "Python [conda env:anaconda2]",
      "language": "python",
      "name": "conda-env-anaconda2-py"
    },
    "language_info": {
      "codemirror_mode": {
        "name": "ipython",
        "version": 2
      },
      "file_extension": ".py",
      "mimetype": "text/x-python",
      "name": "python",
      "nbconvert_exporter": "python",
      "pygments_lexer": "ipython2",
      "version": "2.7.12"
    },
    "colab": {
      "provenance": []
    }
  },
  "nbformat": 4,
  "nbformat_minor": 0
}